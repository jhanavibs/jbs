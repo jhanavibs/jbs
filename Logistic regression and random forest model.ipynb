{
  "nbformat": 4,
  "nbformat_minor": 0,
  "metadata": {
    "colab": {
      "name": "Bysani_A3.ipynb",
      "provenance": []
    },
    "kernelspec": {
      "name": "python3",
      "display_name": "Python 3"
    },
    "language_info": {
      "name": "python"
    }
  },
  "cells": [
    {
      "cell_type": "markdown",
      "source": [
        "**Part I: Logistic Regression Model:**"
      ],
      "metadata": {
        "id": "65qf9kaoWxQA"
      }
    },
    {
      "cell_type": "markdown",
      "source": [
        "**A. Bring the dataset week_vacation into your environment, and use the head()\n",
        "function to explore the variables.**"
      ],
      "metadata": {
        "id": "XiOSKTOKW29e"
      }
    },
    {
      "cell_type": "code",
      "source": [
        "import numpy as np\n",
        "import pandas as pd\n",
        "import matplotlib.pyplot as plt\n",
        "import seaborn as sns"
      ],
      "metadata": {
        "id": "HisZOlbTW61-"
      },
      "execution_count": 1,
      "outputs": []
    },
    {
      "cell_type": "code",
      "source": [
        "from google.colab import files\n",
        "uploaded = files.upload()"
      ],
      "metadata": {
        "colab": {
          "resources": {
            "http://localhost:8080/nbextensions/google.colab/files.js": {
              "data": "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",
              "ok": true,
              "headers": [
                [
                  "content-type",
                  "application/javascript"
                ]
              ],
              "status": 200,
              "status_text": ""
            }
          },
          "base_uri": "https://localhost:8080/",
          "height": 73
        },
        "id": "5Do1PWd9XCph",
        "outputId": "39eb6b53-727c-4092-9284-5c180f195ffa"
      },
      "execution_count": 2,
      "outputs": [
        {
          "output_type": "display_data",
          "data": {
            "text/plain": [
              "<IPython.core.display.HTML object>"
            ],
            "text/html": [
              "\n",
              "     <input type=\"file\" id=\"files-085a5527-717a-4e72-9de8-1d23e5cf9e1c\" name=\"files[]\" multiple disabled\n",
              "        style=\"border:none\" />\n",
              "     <output id=\"result-085a5527-717a-4e72-9de8-1d23e5cf9e1c\">\n",
              "      Upload widget is only available when the cell has been executed in the\n",
              "      current browser session. Please rerun this cell to enable.\n",
              "      </output>\n",
              "      <script src=\"/nbextensions/google.colab/files.js\"></script> "
            ]
          },
          "metadata": {}
        },
        {
          "output_type": "stream",
          "name": "stdout",
          "text": [
            "Saving week_vacation.csv to week_vacation.csv\n"
          ]
        }
      ]
    },
    {
      "cell_type": "code",
      "source": [
        "week_vacation = pd.read_csv('week_vacation.csv')\n",
        "print(week_vacation)"
      ],
      "metadata": {
        "colab": {
          "base_uri": "https://localhost:8080/",
          "height": 0
        },
        "id": "-4MTYN9aXDN1",
        "outputId": "b0e3f419-238d-4fb4-c038-c07ae17671f7"
      },
      "execution_count": 3,
      "outputs": [
        {
          "output_type": "stream",
          "name": "stdout",
          "text": [
            "      householdID          state            lodging              dining  \\\n",
            "0             795   Rhode Island       Mainer Motel  Snack Shack Viking   \n",
            "1             465   Rhode Island       Mainer Motel   Lobsterama Viking   \n",
            "2             615    Connecticut       Mainer Motel               Other   \n",
            "3             666    Connecticut       Mainer Motel               Other   \n",
            "4            1318    Connecticut       Mainer Motel    Grand Mainer VIP   \n",
            "...           ...            ...                ...                 ...   \n",
            "5995         5964  New Hampshire              Other   Lobsterama Viking   \n",
            "5996         5972          Maine            Big Ken   Lobsterama Viking   \n",
            "5997         5973  Massachusetts              Other               Other   \n",
            "5998         5997        Vermont            Big Ken   Lobsterama Viking   \n",
            "5999         5999  Massachusetts  Portland Sea View               Other   \n",
            "\n",
            "                 rental  merch_store maine_historic  householdpax  \\\n",
            "0     Luxury Sports Car   101.538340             No             4   \n",
            "1     Luxury Sports Car    83.256816            Yes             7   \n",
            "2                   SUV    80.955348             No             5   \n",
            "3                   SUV    87.085150            Yes             4   \n",
            "4                   SUV    80.361456            Yes             4   \n",
            "...                 ...          ...            ...           ...   \n",
            "5995  Luxury Sports Car    77.649961             No             3   \n",
            "5996              Other    62.474236            Yes             3   \n",
            "5997                SUV    65.484996            Yes             2   \n",
            "5998              Other    71.459042             No             3   \n",
            "5999                SUV    59.329541             No             3   \n",
            "\n",
            "                AGI  return  \n",
            "0     141722.245711       1  \n",
            "1     141491.303906       1  \n",
            "2     136825.347272       0  \n",
            "3     139517.255488       1  \n",
            "4     135448.538304       1  \n",
            "...             ...     ...  \n",
            "5995  129068.275201       1  \n",
            "5996  130259.720842       1  \n",
            "5997  125243.563471       1  \n",
            "5998  128374.508583       0  \n",
            "5999  112504.604317       1  \n",
            "\n",
            "[6000 rows x 10 columns]\n"
          ]
        }
      ]
    },
    {
      "cell_type": "code",
      "source": [
        "week_vacation.head()"
      ],
      "metadata": {
        "colab": {
          "base_uri": "https://localhost:8080/",
          "height": 207
        },
        "id": "H64R90ncXXnJ",
        "outputId": "22e32292-867b-4d6e-f6f4-9c4972ab8ae4"
      },
      "execution_count": 4,
      "outputs": [
        {
          "output_type": "execute_result",
          "data": {
            "text/plain": [
              "   householdID         state       lodging              dining  \\\n",
              "0          795  Rhode Island  Mainer Motel  Snack Shack Viking   \n",
              "1          465  Rhode Island  Mainer Motel   Lobsterama Viking   \n",
              "2          615   Connecticut  Mainer Motel               Other   \n",
              "3          666   Connecticut  Mainer Motel               Other   \n",
              "4         1318   Connecticut  Mainer Motel    Grand Mainer VIP   \n",
              "\n",
              "              rental  merch_store maine_historic  householdpax            AGI  \\\n",
              "0  Luxury Sports Car   101.538340             No             4  141722.245711   \n",
              "1  Luxury Sports Car    83.256816            Yes             7  141491.303906   \n",
              "2                SUV    80.955348             No             5  136825.347272   \n",
              "3                SUV    87.085150            Yes             4  139517.255488   \n",
              "4                SUV    80.361456            Yes             4  135448.538304   \n",
              "\n",
              "   return  \n",
              "0       1  \n",
              "1       1  \n",
              "2       0  \n",
              "3       1  \n",
              "4       1  "
            ],
            "text/html": [
              "\n",
              "  <div id=\"df-31da3f6d-e1fc-4d53-8167-6ef426783372\">\n",
              "    <div class=\"colab-df-container\">\n",
              "      <div>\n",
              "<style scoped>\n",
              "    .dataframe tbody tr th:only-of-type {\n",
              "        vertical-align: middle;\n",
              "    }\n",
              "\n",
              "    .dataframe tbody tr th {\n",
              "        vertical-align: top;\n",
              "    }\n",
              "\n",
              "    .dataframe thead th {\n",
              "        text-align: right;\n",
              "    }\n",
              "</style>\n",
              "<table border=\"1\" class=\"dataframe\">\n",
              "  <thead>\n",
              "    <tr style=\"text-align: right;\">\n",
              "      <th></th>\n",
              "      <th>householdID</th>\n",
              "      <th>state</th>\n",
              "      <th>lodging</th>\n",
              "      <th>dining</th>\n",
              "      <th>rental</th>\n",
              "      <th>merch_store</th>\n",
              "      <th>maine_historic</th>\n",
              "      <th>householdpax</th>\n",
              "      <th>AGI</th>\n",
              "      <th>return</th>\n",
              "    </tr>\n",
              "  </thead>\n",
              "  <tbody>\n",
              "    <tr>\n",
              "      <th>0</th>\n",
              "      <td>795</td>\n",
              "      <td>Rhode Island</td>\n",
              "      <td>Mainer Motel</td>\n",
              "      <td>Snack Shack Viking</td>\n",
              "      <td>Luxury Sports Car</td>\n",
              "      <td>101.538340</td>\n",
              "      <td>No</td>\n",
              "      <td>4</td>\n",
              "      <td>141722.245711</td>\n",
              "      <td>1</td>\n",
              "    </tr>\n",
              "    <tr>\n",
              "      <th>1</th>\n",
              "      <td>465</td>\n",
              "      <td>Rhode Island</td>\n",
              "      <td>Mainer Motel</td>\n",
              "      <td>Lobsterama Viking</td>\n",
              "      <td>Luxury Sports Car</td>\n",
              "      <td>83.256816</td>\n",
              "      <td>Yes</td>\n",
              "      <td>7</td>\n",
              "      <td>141491.303906</td>\n",
              "      <td>1</td>\n",
              "    </tr>\n",
              "    <tr>\n",
              "      <th>2</th>\n",
              "      <td>615</td>\n",
              "      <td>Connecticut</td>\n",
              "      <td>Mainer Motel</td>\n",
              "      <td>Other</td>\n",
              "      <td>SUV</td>\n",
              "      <td>80.955348</td>\n",
              "      <td>No</td>\n",
              "      <td>5</td>\n",
              "      <td>136825.347272</td>\n",
              "      <td>0</td>\n",
              "    </tr>\n",
              "    <tr>\n",
              "      <th>3</th>\n",
              "      <td>666</td>\n",
              "      <td>Connecticut</td>\n",
              "      <td>Mainer Motel</td>\n",
              "      <td>Other</td>\n",
              "      <td>SUV</td>\n",
              "      <td>87.085150</td>\n",
              "      <td>Yes</td>\n",
              "      <td>4</td>\n",
              "      <td>139517.255488</td>\n",
              "      <td>1</td>\n",
              "    </tr>\n",
              "    <tr>\n",
              "      <th>4</th>\n",
              "      <td>1318</td>\n",
              "      <td>Connecticut</td>\n",
              "      <td>Mainer Motel</td>\n",
              "      <td>Grand Mainer VIP</td>\n",
              "      <td>SUV</td>\n",
              "      <td>80.361456</td>\n",
              "      <td>Yes</td>\n",
              "      <td>4</td>\n",
              "      <td>135448.538304</td>\n",
              "      <td>1</td>\n",
              "    </tr>\n",
              "  </tbody>\n",
              "</table>\n",
              "</div>\n",
              "      <button class=\"colab-df-convert\" onclick=\"convertToInteractive('df-31da3f6d-e1fc-4d53-8167-6ef426783372')\"\n",
              "              title=\"Convert this dataframe to an interactive table.\"\n",
              "              style=\"display:none;\">\n",
              "        \n",
              "  <svg xmlns=\"http://www.w3.org/2000/svg\" height=\"24px\"viewBox=\"0 0 24 24\"\n",
              "       width=\"24px\">\n",
              "    <path d=\"M0 0h24v24H0V0z\" fill=\"none\"/>\n",
              "    <path d=\"M18.56 5.44l.94 2.06.94-2.06 2.06-.94-2.06-.94-.94-2.06-.94 2.06-2.06.94zm-11 1L8.5 8.5l.94-2.06 2.06-.94-2.06-.94L8.5 2.5l-.94 2.06-2.06.94zm10 10l.94 2.06.94-2.06 2.06-.94-2.06-.94-.94-2.06-.94 2.06-2.06.94z\"/><path d=\"M17.41 7.96l-1.37-1.37c-.4-.4-.92-.59-1.43-.59-.52 0-1.04.2-1.43.59L10.3 9.45l-7.72 7.72c-.78.78-.78 2.05 0 2.83L4 21.41c.39.39.9.59 1.41.59.51 0 1.02-.2 1.41-.59l7.78-7.78 2.81-2.81c.8-.78.8-2.07 0-2.86zM5.41 20L4 18.59l7.72-7.72 1.47 1.35L5.41 20z\"/>\n",
              "  </svg>\n",
              "      </button>\n",
              "      \n",
              "  <style>\n",
              "    .colab-df-container {\n",
              "      display:flex;\n",
              "      flex-wrap:wrap;\n",
              "      gap: 12px;\n",
              "    }\n",
              "\n",
              "    .colab-df-convert {\n",
              "      background-color: #E8F0FE;\n",
              "      border: none;\n",
              "      border-radius: 50%;\n",
              "      cursor: pointer;\n",
              "      display: none;\n",
              "      fill: #1967D2;\n",
              "      height: 32px;\n",
              "      padding: 0 0 0 0;\n",
              "      width: 32px;\n",
              "    }\n",
              "\n",
              "    .colab-df-convert:hover {\n",
              "      background-color: #E2EBFA;\n",
              "      box-shadow: 0px 1px 2px rgba(60, 64, 67, 0.3), 0px 1px 3px 1px rgba(60, 64, 67, 0.15);\n",
              "      fill: #174EA6;\n",
              "    }\n",
              "\n",
              "    [theme=dark] .colab-df-convert {\n",
              "      background-color: #3B4455;\n",
              "      fill: #D2E3FC;\n",
              "    }\n",
              "\n",
              "    [theme=dark] .colab-df-convert:hover {\n",
              "      background-color: #434B5C;\n",
              "      box-shadow: 0px 1px 3px 1px rgba(0, 0, 0, 0.15);\n",
              "      filter: drop-shadow(0px 1px 2px rgba(0, 0, 0, 0.3));\n",
              "      fill: #FFFFFF;\n",
              "    }\n",
              "  </style>\n",
              "\n",
              "      <script>\n",
              "        const buttonEl =\n",
              "          document.querySelector('#df-31da3f6d-e1fc-4d53-8167-6ef426783372 button.colab-df-convert');\n",
              "        buttonEl.style.display =\n",
              "          google.colab.kernel.accessAllowed ? 'block' : 'none';\n",
              "\n",
              "        async function convertToInteractive(key) {\n",
              "          const element = document.querySelector('#df-31da3f6d-e1fc-4d53-8167-6ef426783372');\n",
              "          const dataTable =\n",
              "            await google.colab.kernel.invokeFunction('convertToInteractive',\n",
              "                                                     [key], {});\n",
              "          if (!dataTable) return;\n",
              "\n",
              "          const docLinkHtml = 'Like what you see? Visit the ' +\n",
              "            '<a target=\"_blank\" href=https://colab.research.google.com/notebooks/data_table.ipynb>data table notebook</a>'\n",
              "            + ' to learn more about interactive tables.';\n",
              "          element.innerHTML = '';\n",
              "          dataTable['output_type'] = 'display_data';\n",
              "          await google.colab.output.renderOutput(dataTable, element);\n",
              "          const docLink = document.createElement('div');\n",
              "          docLink.innerHTML = docLinkHtml;\n",
              "          element.appendChild(docLink);\n",
              "        }\n",
              "      </script>\n",
              "    </div>\n",
              "  </div>\n",
              "  "
            ]
          },
          "metadata": {},
          "execution_count": 4
        }
      ]
    },
    {
      "cell_type": "markdown",
      "source": [
        "**B. Which of the variables here are categorical? Which are numerical?**"
      ],
      "metadata": {
        "id": "AS5iM6mpXfRm"
      }
    },
    {
      "cell_type": "markdown",
      "source": [
        "*Categorical Variables : householdID, state, lodging, dining, rental, maine_historic, return.* "
      ],
      "metadata": {
        "id": "VAv2C1tjXjPq"
      }
    },
    {
      "cell_type": "markdown",
      "source": [
        "*Numeric Variables : householdpax, AGI, merch_store.*"
      ],
      "metadata": {
        "id": "bffqnEV0WFNg"
      }
    },
    {
      "cell_type": "markdown",
      "source": [
        "**C. Use the value_counts() function from pandas to learn more about the outcome\n",
        "variable, return. Describe your findings -- what are the different outcome classes\n",
        "here, and how common are each of them in the dataset?**"
      ],
      "metadata": {
        "id": "0uK_OVUEXknQ"
      }
    },
    {
      "cell_type": "code",
      "source": [
        "week_vacation['return'].value_counts()"
      ],
      "metadata": {
        "colab": {
          "base_uri": "https://localhost:8080/",
          "height": 0
        },
        "id": "qvfu5i91XqhV",
        "outputId": "8f7b8d7b-ee68-407c-a59f-89e4da725f7c"
      },
      "execution_count": 5,
      "outputs": [
        {
          "output_type": "execute_result",
          "data": {
            "text/plain": [
              "1    3809\n",
              "0    2191\n",
              "Name: return, dtype: int64"
            ]
          },
          "metadata": {},
          "execution_count": 5
        }
      ]
    },
    {
      "cell_type": "markdown",
      "source": [
        "*iThe count() function counts the number of not empty values for each row, or column. Here, we have specified the function for outcome variable 'return'. The count function returns that 3809 rows or households have accepted the discounted return offer and 2191 families have rejected the offer.*"
      ],
      "metadata": {
        "id": "EXsdBxOBYCXy"
      }
    },
    {
      "cell_type": "markdown",
      "source": [
        "**D. Call the describe() function on the dataset.**"
      ],
      "metadata": {
        "id": "Av8_PxZ6YFh5"
      }
    },
    {
      "cell_type": "markdown",
      "source": [
        "**a. Do you see any impossible values here? If so, take whatever step(s) that you feel are appropriate for handling those values. How did you handle the impossible values?**"
      ],
      "metadata": {
        "id": "Sqz-6F7iLzd_"
      }
    },
    {
      "cell_type": "code",
      "source": [
        "week_vacation.describe()"
      ],
      "metadata": {
        "colab": {
          "base_uri": "https://localhost:8080/",
          "height": 301
        },
        "id": "OYaJgiRzYP-K",
        "outputId": "88028e8e-6dbc-4d80-9236-bb533851b5ce"
      },
      "execution_count": 6,
      "outputs": [
        {
          "output_type": "execute_result",
          "data": {
            "text/plain": [
              "       householdID  merch_store  householdpax            AGI       return\n",
              "count  6000.000000  6000.000000   6000.000000    6000.000000  6000.000000\n",
              "mean   3000.500000    78.819533      3.116667  131197.932552     0.634833\n",
              "std    1732.195139    12.040140      1.180800    8830.709226     0.481517\n",
              "min       1.000000    33.742908     -1.000000  101707.425922     0.000000\n",
              "25%    1500.750000    70.692860      2.000000  125394.401669     0.000000\n",
              "50%    3000.500000    78.855281      3.000000  131191.340581     1.000000\n",
              "75%    4500.250000    86.781407      4.000000  137180.198223     1.000000\n",
              "max    6000.000000   128.004971      7.000000  166768.851963     1.000000"
            ],
            "text/html": [
              "\n",
              "  <div id=\"df-57980259-c239-4fb8-9333-0e33ad75b276\">\n",
              "    <div class=\"colab-df-container\">\n",
              "      <div>\n",
              "<style scoped>\n",
              "    .dataframe tbody tr th:only-of-type {\n",
              "        vertical-align: middle;\n",
              "    }\n",
              "\n",
              "    .dataframe tbody tr th {\n",
              "        vertical-align: top;\n",
              "    }\n",
              "\n",
              "    .dataframe thead th {\n",
              "        text-align: right;\n",
              "    }\n",
              "</style>\n",
              "<table border=\"1\" class=\"dataframe\">\n",
              "  <thead>\n",
              "    <tr style=\"text-align: right;\">\n",
              "      <th></th>\n",
              "      <th>householdID</th>\n",
              "      <th>merch_store</th>\n",
              "      <th>householdpax</th>\n",
              "      <th>AGI</th>\n",
              "      <th>return</th>\n",
              "    </tr>\n",
              "  </thead>\n",
              "  <tbody>\n",
              "    <tr>\n",
              "      <th>count</th>\n",
              "      <td>6000.000000</td>\n",
              "      <td>6000.000000</td>\n",
              "      <td>6000.000000</td>\n",
              "      <td>6000.000000</td>\n",
              "      <td>6000.000000</td>\n",
              "    </tr>\n",
              "    <tr>\n",
              "      <th>mean</th>\n",
              "      <td>3000.500000</td>\n",
              "      <td>78.819533</td>\n",
              "      <td>3.116667</td>\n",
              "      <td>131197.932552</td>\n",
              "      <td>0.634833</td>\n",
              "    </tr>\n",
              "    <tr>\n",
              "      <th>std</th>\n",
              "      <td>1732.195139</td>\n",
              "      <td>12.040140</td>\n",
              "      <td>1.180800</td>\n",
              "      <td>8830.709226</td>\n",
              "      <td>0.481517</td>\n",
              "    </tr>\n",
              "    <tr>\n",
              "      <th>min</th>\n",
              "      <td>1.000000</td>\n",
              "      <td>33.742908</td>\n",
              "      <td>-1.000000</td>\n",
              "      <td>101707.425922</td>\n",
              "      <td>0.000000</td>\n",
              "    </tr>\n",
              "    <tr>\n",
              "      <th>25%</th>\n",
              "      <td>1500.750000</td>\n",
              "      <td>70.692860</td>\n",
              "      <td>2.000000</td>\n",
              "      <td>125394.401669</td>\n",
              "      <td>0.000000</td>\n",
              "    </tr>\n",
              "    <tr>\n",
              "      <th>50%</th>\n",
              "      <td>3000.500000</td>\n",
              "      <td>78.855281</td>\n",
              "      <td>3.000000</td>\n",
              "      <td>131191.340581</td>\n",
              "      <td>1.000000</td>\n",
              "    </tr>\n",
              "    <tr>\n",
              "      <th>75%</th>\n",
              "      <td>4500.250000</td>\n",
              "      <td>86.781407</td>\n",
              "      <td>4.000000</td>\n",
              "      <td>137180.198223</td>\n",
              "      <td>1.000000</td>\n",
              "    </tr>\n",
              "    <tr>\n",
              "      <th>max</th>\n",
              "      <td>6000.000000</td>\n",
              "      <td>128.004971</td>\n",
              "      <td>7.000000</td>\n",
              "      <td>166768.851963</td>\n",
              "      <td>1.000000</td>\n",
              "    </tr>\n",
              "  </tbody>\n",
              "</table>\n",
              "</div>\n",
              "      <button class=\"colab-df-convert\" onclick=\"convertToInteractive('df-57980259-c239-4fb8-9333-0e33ad75b276')\"\n",
              "              title=\"Convert this dataframe to an interactive table.\"\n",
              "              style=\"display:none;\">\n",
              "        \n",
              "  <svg xmlns=\"http://www.w3.org/2000/svg\" height=\"24px\"viewBox=\"0 0 24 24\"\n",
              "       width=\"24px\">\n",
              "    <path d=\"M0 0h24v24H0V0z\" fill=\"none\"/>\n",
              "    <path d=\"M18.56 5.44l.94 2.06.94-2.06 2.06-.94-2.06-.94-.94-2.06-.94 2.06-2.06.94zm-11 1L8.5 8.5l.94-2.06 2.06-.94-2.06-.94L8.5 2.5l-.94 2.06-2.06.94zm10 10l.94 2.06.94-2.06 2.06-.94-2.06-.94-.94-2.06-.94 2.06-2.06.94z\"/><path d=\"M17.41 7.96l-1.37-1.37c-.4-.4-.92-.59-1.43-.59-.52 0-1.04.2-1.43.59L10.3 9.45l-7.72 7.72c-.78.78-.78 2.05 0 2.83L4 21.41c.39.39.9.59 1.41.59.51 0 1.02-.2 1.41-.59l7.78-7.78 2.81-2.81c.8-.78.8-2.07 0-2.86zM5.41 20L4 18.59l7.72-7.72 1.47 1.35L5.41 20z\"/>\n",
              "  </svg>\n",
              "      </button>\n",
              "      \n",
              "  <style>\n",
              "    .colab-df-container {\n",
              "      display:flex;\n",
              "      flex-wrap:wrap;\n",
              "      gap: 12px;\n",
              "    }\n",
              "\n",
              "    .colab-df-convert {\n",
              "      background-color: #E8F0FE;\n",
              "      border: none;\n",
              "      border-radius: 50%;\n",
              "      cursor: pointer;\n",
              "      display: none;\n",
              "      fill: #1967D2;\n",
              "      height: 32px;\n",
              "      padding: 0 0 0 0;\n",
              "      width: 32px;\n",
              "    }\n",
              "\n",
              "    .colab-df-convert:hover {\n",
              "      background-color: #E2EBFA;\n",
              "      box-shadow: 0px 1px 2px rgba(60, 64, 67, 0.3), 0px 1px 3px 1px rgba(60, 64, 67, 0.15);\n",
              "      fill: #174EA6;\n",
              "    }\n",
              "\n",
              "    [theme=dark] .colab-df-convert {\n",
              "      background-color: #3B4455;\n",
              "      fill: #D2E3FC;\n",
              "    }\n",
              "\n",
              "    [theme=dark] .colab-df-convert:hover {\n",
              "      background-color: #434B5C;\n",
              "      box-shadow: 0px 1px 3px 1px rgba(0, 0, 0, 0.15);\n",
              "      filter: drop-shadow(0px 1px 2px rgba(0, 0, 0, 0.3));\n",
              "      fill: #FFFFFF;\n",
              "    }\n",
              "  </style>\n",
              "\n",
              "      <script>\n",
              "        const buttonEl =\n",
              "          document.querySelector('#df-57980259-c239-4fb8-9333-0e33ad75b276 button.colab-df-convert');\n",
              "        buttonEl.style.display =\n",
              "          google.colab.kernel.accessAllowed ? 'block' : 'none';\n",
              "\n",
              "        async function convertToInteractive(key) {\n",
              "          const element = document.querySelector('#df-57980259-c239-4fb8-9333-0e33ad75b276');\n",
              "          const dataTable =\n",
              "            await google.colab.kernel.invokeFunction('convertToInteractive',\n",
              "                                                     [key], {});\n",
              "          if (!dataTable) return;\n",
              "\n",
              "          const docLinkHtml = 'Like what you see? Visit the ' +\n",
              "            '<a target=\"_blank\" href=https://colab.research.google.com/notebooks/data_table.ipynb>data table notebook</a>'\n",
              "            + ' to learn more about interactive tables.';\n",
              "          element.innerHTML = '';\n",
              "          dataTable['output_type'] = 'display_data';\n",
              "          await google.colab.output.renderOutput(dataTable, element);\n",
              "          const docLink = document.createElement('div');\n",
              "          docLink.innerHTML = docLinkHtml;\n",
              "          element.appendChild(docLink);\n",
              "        }\n",
              "      </script>\n",
              "    </div>\n",
              "  </div>\n",
              "  "
            ]
          },
          "metadata": {},
          "execution_count": 6
        }
      ]
    },
    {
      "cell_type": "code",
      "source": [
        "week_vacation1= week_vacation.drop(\"householdID\",axis=1,inplace= True)\n"
      ],
      "metadata": {
        "id": "FhxnnmFFYhzg"
      },
      "execution_count": 7,
      "outputs": []
    },
    {
      "cell_type": "markdown",
      "source": [
        "*Describe() function provides the statistical summary of the dataset week_vacation. Here householdID is not required for modeling purposes. It is just a unique identifier and doesnot actually represent any numerical value.Merch_store, AGI and return looks fine. But the values of householdpax varies from -1 to 7. As the number of households can never be negative. -1 is not realistically possible. Hence it is necessary to drop the values which are negative. It is shown in part b of this section.*\n"
      ],
      "metadata": {
        "id": "0idtFzM1fhhr"
      }
    },
    {
      "cell_type": "markdown",
      "source": [
        "**b. If any financial variables here are measured with more than two decimal\n",
        "places of precision, change this so that only two digits to the right of the\n",
        "decimal point are used.**"
      ],
      "metadata": {
        "id": "DGKsMBNJYhAn"
      }
    },
    {
      "cell_type": "code",
      "source": [
        "week_vacation1=week_vacation[week_vacation['householdpax']>0]"
      ],
      "metadata": {
        "id": "0xPmESKPYeFs"
      },
      "execution_count": 8,
      "outputs": []
    },
    {
      "cell_type": "code",
      "source": [
        "week_vacation1"
      ],
      "metadata": {
        "colab": {
          "base_uri": "https://localhost:8080/",
          "height": 425
        },
        "id": "OK5LyvyBeOa0",
        "outputId": "a679bac8-4f83-4421-d02b-03a2bb4e5a49"
      },
      "execution_count": 9,
      "outputs": [
        {
          "output_type": "execute_result",
          "data": {
            "text/plain": [
              "              state            lodging              dining             rental  \\\n",
              "0      Rhode Island       Mainer Motel  Snack Shack Viking  Luxury Sports Car   \n",
              "1      Rhode Island       Mainer Motel   Lobsterama Viking  Luxury Sports Car   \n",
              "2       Connecticut       Mainer Motel               Other                SUV   \n",
              "3       Connecticut       Mainer Motel               Other                SUV   \n",
              "4       Connecticut       Mainer Motel    Grand Mainer VIP                SUV   \n",
              "...             ...                ...                 ...                ...   \n",
              "5995  New Hampshire              Other   Lobsterama Viking  Luxury Sports Car   \n",
              "5996          Maine            Big Ken   Lobsterama Viking              Other   \n",
              "5997  Massachusetts              Other               Other                SUV   \n",
              "5998        Vermont            Big Ken   Lobsterama Viking              Other   \n",
              "5999  Massachusetts  Portland Sea View               Other                SUV   \n",
              "\n",
              "      merch_store maine_historic  householdpax            AGI  return  \n",
              "0      101.538340             No             4  141722.245711       1  \n",
              "1       83.256816            Yes             7  141491.303906       1  \n",
              "2       80.955348             No             5  136825.347272       0  \n",
              "3       87.085150            Yes             4  139517.255488       1  \n",
              "4       80.361456            Yes             4  135448.538304       1  \n",
              "...           ...            ...           ...            ...     ...  \n",
              "5995    77.649961             No             3  129068.275201       1  \n",
              "5996    62.474236            Yes             3  130259.720842       1  \n",
              "5997    65.484996            Yes             2  125243.563471       1  \n",
              "5998    71.459042             No             3  128374.508583       0  \n",
              "5999    59.329541             No             3  112504.604317       1  \n",
              "\n",
              "[5927 rows x 9 columns]"
            ],
            "text/html": [
              "\n",
              "  <div id=\"df-e89cbc3a-36d3-40db-9071-eab1270872ba\">\n",
              "    <div class=\"colab-df-container\">\n",
              "      <div>\n",
              "<style scoped>\n",
              "    .dataframe tbody tr th:only-of-type {\n",
              "        vertical-align: middle;\n",
              "    }\n",
              "\n",
              "    .dataframe tbody tr th {\n",
              "        vertical-align: top;\n",
              "    }\n",
              "\n",
              "    .dataframe thead th {\n",
              "        text-align: right;\n",
              "    }\n",
              "</style>\n",
              "<table border=\"1\" class=\"dataframe\">\n",
              "  <thead>\n",
              "    <tr style=\"text-align: right;\">\n",
              "      <th></th>\n",
              "      <th>state</th>\n",
              "      <th>lodging</th>\n",
              "      <th>dining</th>\n",
              "      <th>rental</th>\n",
              "      <th>merch_store</th>\n",
              "      <th>maine_historic</th>\n",
              "      <th>householdpax</th>\n",
              "      <th>AGI</th>\n",
              "      <th>return</th>\n",
              "    </tr>\n",
              "  </thead>\n",
              "  <tbody>\n",
              "    <tr>\n",
              "      <th>0</th>\n",
              "      <td>Rhode Island</td>\n",
              "      <td>Mainer Motel</td>\n",
              "      <td>Snack Shack Viking</td>\n",
              "      <td>Luxury Sports Car</td>\n",
              "      <td>101.538340</td>\n",
              "      <td>No</td>\n",
              "      <td>4</td>\n",
              "      <td>141722.245711</td>\n",
              "      <td>1</td>\n",
              "    </tr>\n",
              "    <tr>\n",
              "      <th>1</th>\n",
              "      <td>Rhode Island</td>\n",
              "      <td>Mainer Motel</td>\n",
              "      <td>Lobsterama Viking</td>\n",
              "      <td>Luxury Sports Car</td>\n",
              "      <td>83.256816</td>\n",
              "      <td>Yes</td>\n",
              "      <td>7</td>\n",
              "      <td>141491.303906</td>\n",
              "      <td>1</td>\n",
              "    </tr>\n",
              "    <tr>\n",
              "      <th>2</th>\n",
              "      <td>Connecticut</td>\n",
              "      <td>Mainer Motel</td>\n",
              "      <td>Other</td>\n",
              "      <td>SUV</td>\n",
              "      <td>80.955348</td>\n",
              "      <td>No</td>\n",
              "      <td>5</td>\n",
              "      <td>136825.347272</td>\n",
              "      <td>0</td>\n",
              "    </tr>\n",
              "    <tr>\n",
              "      <th>3</th>\n",
              "      <td>Connecticut</td>\n",
              "      <td>Mainer Motel</td>\n",
              "      <td>Other</td>\n",
              "      <td>SUV</td>\n",
              "      <td>87.085150</td>\n",
              "      <td>Yes</td>\n",
              "      <td>4</td>\n",
              "      <td>139517.255488</td>\n",
              "      <td>1</td>\n",
              "    </tr>\n",
              "    <tr>\n",
              "      <th>4</th>\n",
              "      <td>Connecticut</td>\n",
              "      <td>Mainer Motel</td>\n",
              "      <td>Grand Mainer VIP</td>\n",
              "      <td>SUV</td>\n",
              "      <td>80.361456</td>\n",
              "      <td>Yes</td>\n",
              "      <td>4</td>\n",
              "      <td>135448.538304</td>\n",
              "      <td>1</td>\n",
              "    </tr>\n",
              "    <tr>\n",
              "      <th>...</th>\n",
              "      <td>...</td>\n",
              "      <td>...</td>\n",
              "      <td>...</td>\n",
              "      <td>...</td>\n",
              "      <td>...</td>\n",
              "      <td>...</td>\n",
              "      <td>...</td>\n",
              "      <td>...</td>\n",
              "      <td>...</td>\n",
              "    </tr>\n",
              "    <tr>\n",
              "      <th>5995</th>\n",
              "      <td>New Hampshire</td>\n",
              "      <td>Other</td>\n",
              "      <td>Lobsterama Viking</td>\n",
              "      <td>Luxury Sports Car</td>\n",
              "      <td>77.649961</td>\n",
              "      <td>No</td>\n",
              "      <td>3</td>\n",
              "      <td>129068.275201</td>\n",
              "      <td>1</td>\n",
              "    </tr>\n",
              "    <tr>\n",
              "      <th>5996</th>\n",
              "      <td>Maine</td>\n",
              "      <td>Big Ken</td>\n",
              "      <td>Lobsterama Viking</td>\n",
              "      <td>Other</td>\n",
              "      <td>62.474236</td>\n",
              "      <td>Yes</td>\n",
              "      <td>3</td>\n",
              "      <td>130259.720842</td>\n",
              "      <td>1</td>\n",
              "    </tr>\n",
              "    <tr>\n",
              "      <th>5997</th>\n",
              "      <td>Massachusetts</td>\n",
              "      <td>Other</td>\n",
              "      <td>Other</td>\n",
              "      <td>SUV</td>\n",
              "      <td>65.484996</td>\n",
              "      <td>Yes</td>\n",
              "      <td>2</td>\n",
              "      <td>125243.563471</td>\n",
              "      <td>1</td>\n",
              "    </tr>\n",
              "    <tr>\n",
              "      <th>5998</th>\n",
              "      <td>Vermont</td>\n",
              "      <td>Big Ken</td>\n",
              "      <td>Lobsterama Viking</td>\n",
              "      <td>Other</td>\n",
              "      <td>71.459042</td>\n",
              "      <td>No</td>\n",
              "      <td>3</td>\n",
              "      <td>128374.508583</td>\n",
              "      <td>0</td>\n",
              "    </tr>\n",
              "    <tr>\n",
              "      <th>5999</th>\n",
              "      <td>Massachusetts</td>\n",
              "      <td>Portland Sea View</td>\n",
              "      <td>Other</td>\n",
              "      <td>SUV</td>\n",
              "      <td>59.329541</td>\n",
              "      <td>No</td>\n",
              "      <td>3</td>\n",
              "      <td>112504.604317</td>\n",
              "      <td>1</td>\n",
              "    </tr>\n",
              "  </tbody>\n",
              "</table>\n",
              "<p>5927 rows × 9 columns</p>\n",
              "</div>\n",
              "      <button class=\"colab-df-convert\" onclick=\"convertToInteractive('df-e89cbc3a-36d3-40db-9071-eab1270872ba')\"\n",
              "              title=\"Convert this dataframe to an interactive table.\"\n",
              "              style=\"display:none;\">\n",
              "        \n",
              "  <svg xmlns=\"http://www.w3.org/2000/svg\" height=\"24px\"viewBox=\"0 0 24 24\"\n",
              "       width=\"24px\">\n",
              "    <path d=\"M0 0h24v24H0V0z\" fill=\"none\"/>\n",
              "    <path d=\"M18.56 5.44l.94 2.06.94-2.06 2.06-.94-2.06-.94-.94-2.06-.94 2.06-2.06.94zm-11 1L8.5 8.5l.94-2.06 2.06-.94-2.06-.94L8.5 2.5l-.94 2.06-2.06.94zm10 10l.94 2.06.94-2.06 2.06-.94-2.06-.94-.94-2.06-.94 2.06-2.06.94z\"/><path d=\"M17.41 7.96l-1.37-1.37c-.4-.4-.92-.59-1.43-.59-.52 0-1.04.2-1.43.59L10.3 9.45l-7.72 7.72c-.78.78-.78 2.05 0 2.83L4 21.41c.39.39.9.59 1.41.59.51 0 1.02-.2 1.41-.59l7.78-7.78 2.81-2.81c.8-.78.8-2.07 0-2.86zM5.41 20L4 18.59l7.72-7.72 1.47 1.35L5.41 20z\"/>\n",
              "  </svg>\n",
              "      </button>\n",
              "      \n",
              "  <style>\n",
              "    .colab-df-container {\n",
              "      display:flex;\n",
              "      flex-wrap:wrap;\n",
              "      gap: 12px;\n",
              "    }\n",
              "\n",
              "    .colab-df-convert {\n",
              "      background-color: #E8F0FE;\n",
              "      border: none;\n",
              "      border-radius: 50%;\n",
              "      cursor: pointer;\n",
              "      display: none;\n",
              "      fill: #1967D2;\n",
              "      height: 32px;\n",
              "      padding: 0 0 0 0;\n",
              "      width: 32px;\n",
              "    }\n",
              "\n",
              "    .colab-df-convert:hover {\n",
              "      background-color: #E2EBFA;\n",
              "      box-shadow: 0px 1px 2px rgba(60, 64, 67, 0.3), 0px 1px 3px 1px rgba(60, 64, 67, 0.15);\n",
              "      fill: #174EA6;\n",
              "    }\n",
              "\n",
              "    [theme=dark] .colab-df-convert {\n",
              "      background-color: #3B4455;\n",
              "      fill: #D2E3FC;\n",
              "    }\n",
              "\n",
              "    [theme=dark] .colab-df-convert:hover {\n",
              "      background-color: #434B5C;\n",
              "      box-shadow: 0px 1px 3px 1px rgba(0, 0, 0, 0.15);\n",
              "      filter: drop-shadow(0px 1px 2px rgba(0, 0, 0, 0.3));\n",
              "      fill: #FFFFFF;\n",
              "    }\n",
              "  </style>\n",
              "\n",
              "      <script>\n",
              "        const buttonEl =\n",
              "          document.querySelector('#df-e89cbc3a-36d3-40db-9071-eab1270872ba button.colab-df-convert');\n",
              "        buttonEl.style.display =\n",
              "          google.colab.kernel.accessAllowed ? 'block' : 'none';\n",
              "\n",
              "        async function convertToInteractive(key) {\n",
              "          const element = document.querySelector('#df-e89cbc3a-36d3-40db-9071-eab1270872ba');\n",
              "          const dataTable =\n",
              "            await google.colab.kernel.invokeFunction('convertToInteractive',\n",
              "                                                     [key], {});\n",
              "          if (!dataTable) return;\n",
              "\n",
              "          const docLinkHtml = 'Like what you see? Visit the ' +\n",
              "            '<a target=\"_blank\" href=https://colab.research.google.com/notebooks/data_table.ipynb>data table notebook</a>'\n",
              "            + ' to learn more about interactive tables.';\n",
              "          element.innerHTML = '';\n",
              "          dataTable['output_type'] = 'display_data';\n",
              "          await google.colab.output.renderOutput(dataTable, element);\n",
              "          const docLink = document.createElement('div');\n",
              "          docLink.innerHTML = docLinkHtml;\n",
              "          element.appendChild(docLink);\n",
              "        }\n",
              "      </script>\n",
              "    </div>\n",
              "  </div>\n",
              "  "
            ]
          },
          "metadata": {},
          "execution_count": 9
        }
      ]
    },
    {
      "cell_type": "markdown",
      "source": [
        "**E. For your categorical input variables, do you need to take any steps to convert\n",
        "them into dummies, in order to build a logistic regression model? Why or why\n",
        "not?**"
      ],
      "metadata": {
        "id": "ZNcnEaVgfeLP"
      }
    },
    {
      "cell_type": "markdown",
      "source": [
        "**a. If you answered “yes” to the previous question, dummify your categorical\n",
        "inputs now, being sure to drop one level as you do.**"
      ],
      "metadata": {
        "id": "xpM0EaZqfgUW"
      }
    },
    {
      "cell_type": "code",
      "source": [
        "week_vacation2=pd.get_dummies(week_vacation1,drop_first=True, columns=['state',\t'lodging',\t'dining',\t'rental',\t'maine_historic'])"
      ],
      "metadata": {
        "id": "YzaiHlDJfgw-"
      },
      "execution_count": 10,
      "outputs": []
    },
    {
      "cell_type": "code",
      "source": [
        "week_vacation2.columns"
      ],
      "metadata": {
        "colab": {
          "base_uri": "https://localhost:8080/",
          "height": 0
        },
        "id": "P77n6xiEOtrz",
        "outputId": "c2bd270a-a714-411c-e365-3f59f318ab25"
      },
      "execution_count": 11,
      "outputs": [
        {
          "output_type": "execute_result",
          "data": {
            "text/plain": [
              "Index(['merch_store', 'householdpax', 'AGI', 'return', 'state_Maine',\n",
              "       'state_Massachusetts', 'state_New Hampshire', 'state_Rhode Island',\n",
              "       'state_Vermont', 'lodging_Mainer Motel', 'lodging_Other',\n",
              "       'lodging_Portland Sea View', 'dining_Lobsterama Viking', 'dining_Other',\n",
              "       'dining_Snack Shack Viking', 'rental_Other', 'rental_SUV',\n",
              "       'rental_Sedan', 'maine_historic_Yes'],\n",
              "      dtype='object')"
            ]
          },
          "metadata": {},
          "execution_count": 11
        }
      ]
    },
    {
      "cell_type": "markdown",
      "source": [
        "*Yes we need to convert the categorical variables into dummies for logistic regression model as it is beneficial in the event of a non-linearity in the numeric values, more flexible and allows multiple comparisions to be made.*"
      ],
      "metadata": {
        "id": "mdDxgBbOM7Ie"
      }
    },
    {
      "cell_type": "markdown",
      "source": [
        "**F. Create a data partition. For your random_state value, use a number based on\n",
        "either your work, home, or school address, or just a number that you like (For\n",
        "example, I live at 200 Market St, I work at 1010 Commonwealth Avenue, and my\n",
        "lucky number is 80, so I could use either 200, 1010, or 80). Assign 40% of your\n",
        "rows to your test set, and 60% to your training set.**"
      ],
      "metadata": {
        "id": "Tvfw2vtdftHD"
      }
    },
    {
      "cell_type": "code",
      "source": [
        "X= week_vacation2[['merch_store','householdpax','AGI','state_Maine','state_Massachusetts','state_New Hampshire','state_Rhode Island','state_Vermont','lodging_Mainer Motel',\n",
        "                   'lodging_Other','lodging_Portland Sea View','dining_Lobsterama Viking','dining_Other','dining_Snack Shack Viking','rental_Other','rental_SUV','rental_Sedan','maine_historic_Yes']]\n",
        "y= week_vacation2['return']"
      ],
      "metadata": {
        "id": "UuytMdEpfwpZ"
      },
      "execution_count": 12,
      "outputs": []
    },
    {
      "cell_type": "code",
      "source": [
        "X.corr()"
      ],
      "metadata": {
        "colab": {
          "base_uri": "https://localhost:8080/",
          "height": 782
        },
        "id": "gx6bBVeWgkFz",
        "outputId": "36fc0561-80e7-45d8-e955-2862ba4cbf45"
      },
      "execution_count": 13,
      "outputs": [
        {
          "output_type": "execute_result",
          "data": {
            "text/plain": [
              "                           merch_store  householdpax       AGI  state_Maine  \\\n",
              "merch_store                   1.000000     -0.039043 -0.001408    -0.003323   \n",
              "householdpax                 -0.039043      1.000000  0.011800     0.022158   \n",
              "AGI                          -0.001408      0.011800  1.000000    -0.002198   \n",
              "state_Maine                  -0.003323      0.022158 -0.002198     1.000000   \n",
              "state_Massachusetts           0.000215     -0.027393  0.012137    -0.309386   \n",
              "state_New Hampshire           0.009228     -0.007629 -0.007332    -0.212154   \n",
              "state_Rhode Island           -0.014557     -0.001217 -0.012439    -0.113327   \n",
              "state_Vermont                 0.000218      0.009145 -0.023076    -0.113473   \n",
              "lodging_Mainer Motel         -0.005423     -0.004848  0.009686    -0.009866   \n",
              "lodging_Other                 0.000847     -0.011863 -0.008182     0.023943   \n",
              "lodging_Portland Sea View    -0.009403     -0.007281  0.008961    -0.005999   \n",
              "dining_Lobsterama Viking      0.010399      0.010891 -0.000365     0.006615   \n",
              "dining_Other                  0.005591     -0.004067 -0.002046     0.011297   \n",
              "dining_Snack Shack Viking    -0.011179     -0.004786  0.001461    -0.021711   \n",
              "rental_Other                 -0.005989      0.004777 -0.009289    -0.006320   \n",
              "rental_SUV                   -0.011086     -0.019618  0.017413     0.017523   \n",
              "rental_Sedan                  0.016235      0.007247 -0.010313    -0.023037   \n",
              "maine_historic_Yes           -0.011151      0.013359  0.007137     0.001964   \n",
              "\n",
              "                           state_Massachusetts  state_New Hampshire  \\\n",
              "merch_store                           0.000215             0.009228   \n",
              "householdpax                         -0.027393            -0.007629   \n",
              "AGI                                   0.012137            -0.007332   \n",
              "state_Maine                          -0.309386            -0.212154   \n",
              "state_Massachusetts                   1.000000            -0.387781   \n",
              "state_New Hampshire                  -0.387781             1.000000   \n",
              "state_Rhode Island                   -0.207143            -0.142043   \n",
              "state_Vermont                        -0.207409            -0.142226   \n",
              "lodging_Mainer Motel                 -0.007411             0.031141   \n",
              "lodging_Other                        -0.027724            -0.003044   \n",
              "lodging_Portland Sea View             0.004720             0.009896   \n",
              "dining_Lobsterama Viking             -0.006679            -0.008940   \n",
              "dining_Other                          0.001308            -0.003910   \n",
              "dining_Snack Shack Viking            -0.000211             0.007296   \n",
              "rental_Other                          0.008153            -0.001282   \n",
              "rental_SUV                           -0.013940             0.000577   \n",
              "rental_Sedan                         -0.018195             0.023104   \n",
              "maine_historic_Yes                   -0.010409             0.021325   \n",
              "\n",
              "                           state_Rhode Island  state_Vermont  \\\n",
              "merch_store                         -0.014557       0.000218   \n",
              "householdpax                        -0.001217       0.009145   \n",
              "AGI                                 -0.012439      -0.023076   \n",
              "state_Maine                         -0.113327      -0.113473   \n",
              "state_Massachusetts                 -0.207143      -0.207409   \n",
              "state_New Hampshire                 -0.142043      -0.142226   \n",
              "state_Rhode Island                   1.000000      -0.075973   \n",
              "state_Vermont                       -0.075973       1.000000   \n",
              "lodging_Mainer Motel                -0.022763      -0.023005   \n",
              "lodging_Other                       -0.009680       0.010357   \n",
              "lodging_Portland Sea View            0.003680      -0.006288   \n",
              "dining_Lobsterama Viking             0.008478      -0.015112   \n",
              "dining_Other                        -0.011375       0.017343   \n",
              "dining_Snack Shack Viking            0.012431       0.014019   \n",
              "rental_Other                        -0.021684       0.018472   \n",
              "rental_SUV                           0.000106      -0.016345   \n",
              "rental_Sedan                         0.010859      -0.008988   \n",
              "maine_historic_Yes                   0.005869       0.002420   \n",
              "\n",
              "                           lodging_Mainer Motel  lodging_Other  \\\n",
              "merch_store                           -0.005423       0.000847   \n",
              "householdpax                          -0.004848      -0.011863   \n",
              "AGI                                    0.009686      -0.008182   \n",
              "state_Maine                           -0.009866       0.023943   \n",
              "state_Massachusetts                   -0.007411      -0.027724   \n",
              "state_New Hampshire                    0.031141      -0.003044   \n",
              "state_Rhode Island                    -0.022763      -0.009680   \n",
              "state_Vermont                         -0.023005       0.010357   \n",
              "lodging_Mainer Motel                   1.000000      -0.255257   \n",
              "lodging_Other                         -0.255257       1.000000   \n",
              "lodging_Portland Sea View             -0.211976      -0.329047   \n",
              "dining_Lobsterama Viking               0.001502       0.013563   \n",
              "dining_Other                           0.009515      -0.008778   \n",
              "dining_Snack Shack Viking             -0.019134      -0.022273   \n",
              "rental_Other                          -0.008304       0.010482   \n",
              "rental_SUV                            -0.000324       0.003272   \n",
              "rental_Sedan                          -0.004053      -0.009924   \n",
              "maine_historic_Yes                     0.020822       0.012722   \n",
              "\n",
              "                           lodging_Portland Sea View  \\\n",
              "merch_store                                -0.009403   \n",
              "householdpax                               -0.007281   \n",
              "AGI                                         0.008961   \n",
              "state_Maine                                -0.005999   \n",
              "state_Massachusetts                         0.004720   \n",
              "state_New Hampshire                         0.009896   \n",
              "state_Rhode Island                          0.003680   \n",
              "state_Vermont                              -0.006288   \n",
              "lodging_Mainer Motel                       -0.211976   \n",
              "lodging_Other                              -0.329047   \n",
              "lodging_Portland Sea View                   1.000000   \n",
              "dining_Lobsterama Viking                   -0.014193   \n",
              "dining_Other                                0.002901   \n",
              "dining_Snack Shack Viking                   0.014371   \n",
              "rental_Other                               -0.025168   \n",
              "rental_SUV                                  0.013423   \n",
              "rental_Sedan                                0.019697   \n",
              "maine_historic_Yes                          0.007276   \n",
              "\n",
              "                           dining_Lobsterama Viking  dining_Other  \\\n",
              "merch_store                                0.010399      0.005591   \n",
              "householdpax                               0.010891     -0.004067   \n",
              "AGI                                       -0.000365     -0.002046   \n",
              "state_Maine                                0.006615      0.011297   \n",
              "state_Massachusetts                       -0.006679      0.001308   \n",
              "state_New Hampshire                       -0.008940     -0.003910   \n",
              "state_Rhode Island                         0.008478     -0.011375   \n",
              "state_Vermont                             -0.015112      0.017343   \n",
              "lodging_Mainer Motel                       0.001502      0.009515   \n",
              "lodging_Other                              0.013563     -0.008778   \n",
              "lodging_Portland Sea View                 -0.014193      0.002901   \n",
              "dining_Lobsterama Viking                   1.000000     -0.461327   \n",
              "dining_Other                              -0.461327      1.000000   \n",
              "dining_Snack Shack Viking                 -0.263996     -0.294979   \n",
              "rental_Other                               0.007241      0.002250   \n",
              "rental_SUV                                 0.002686      0.002161   \n",
              "rental_Sedan                              -0.012463      0.014421   \n",
              "maine_historic_Yes                        -0.017474      0.001389   \n",
              "\n",
              "                           dining_Snack Shack Viking  rental_Other  \\\n",
              "merch_store                                -0.011179     -0.005989   \n",
              "householdpax                               -0.004786      0.004777   \n",
              "AGI                                         0.001461     -0.009289   \n",
              "state_Maine                                -0.021711     -0.006320   \n",
              "state_Massachusetts                        -0.000211      0.008153   \n",
              "state_New Hampshire                         0.007296     -0.001282   \n",
              "state_Rhode Island                          0.012431     -0.021684   \n",
              "state_Vermont                               0.014019      0.018472   \n",
              "lodging_Mainer Motel                       -0.019134     -0.008304   \n",
              "lodging_Other                              -0.022273      0.010482   \n",
              "lodging_Portland Sea View                   0.014371     -0.025168   \n",
              "dining_Lobsterama Viking                   -0.263996      0.007241   \n",
              "dining_Other                               -0.294979      0.002250   \n",
              "dining_Snack Shack Viking                   1.000000     -0.009374   \n",
              "rental_Other                               -0.009374      1.000000   \n",
              "rental_SUV                                  0.002170     -0.509001   \n",
              "rental_Sedan                               -0.015619     -0.149475   \n",
              "maine_historic_Yes                         -0.012467     -0.019430   \n",
              "\n",
              "                           rental_SUV  rental_Sedan  maine_historic_Yes  \n",
              "merch_store                 -0.011086      0.016235           -0.011151  \n",
              "householdpax                -0.019618      0.007247            0.013359  \n",
              "AGI                          0.017413     -0.010313            0.007137  \n",
              "state_Maine                  0.017523     -0.023037            0.001964  \n",
              "state_Massachusetts         -0.013940     -0.018195           -0.010409  \n",
              "state_New Hampshire          0.000577      0.023104            0.021325  \n",
              "state_Rhode Island           0.000106      0.010859            0.005869  \n",
              "state_Vermont               -0.016345     -0.008988            0.002420  \n",
              "lodging_Mainer Motel        -0.000324     -0.004053            0.020822  \n",
              "lodging_Other                0.003272     -0.009924            0.012722  \n",
              "lodging_Portland Sea View    0.013423      0.019697            0.007276  \n",
              "dining_Lobsterama Viking     0.002686     -0.012463           -0.017474  \n",
              "dining_Other                 0.002161      0.014421            0.001389  \n",
              "dining_Snack Shack Viking    0.002170     -0.015619           -0.012467  \n",
              "rental_Other                -0.509001     -0.149475           -0.019430  \n",
              "rental_SUV                   1.000000     -0.287874           -0.011542  \n",
              "rental_Sedan                -0.287874      1.000000            0.015122  \n",
              "maine_historic_Yes          -0.011542      0.015122            1.000000  "
            ],
            "text/html": [
              "\n",
              "  <div id=\"df-2858e5ef-f891-4faf-95e5-c30c57877716\">\n",
              "    <div class=\"colab-df-container\">\n",
              "      <div>\n",
              "<style scoped>\n",
              "    .dataframe tbody tr th:only-of-type {\n",
              "        vertical-align: middle;\n",
              "    }\n",
              "\n",
              "    .dataframe tbody tr th {\n",
              "        vertical-align: top;\n",
              "    }\n",
              "\n",
              "    .dataframe thead th {\n",
              "        text-align: right;\n",
              "    }\n",
              "</style>\n",
              "<table border=\"1\" class=\"dataframe\">\n",
              "  <thead>\n",
              "    <tr style=\"text-align: right;\">\n",
              "      <th></th>\n",
              "      <th>merch_store</th>\n",
              "      <th>householdpax</th>\n",
              "      <th>AGI</th>\n",
              "      <th>state_Maine</th>\n",
              "      <th>state_Massachusetts</th>\n",
              "      <th>state_New Hampshire</th>\n",
              "      <th>state_Rhode Island</th>\n",
              "      <th>state_Vermont</th>\n",
              "      <th>lodging_Mainer Motel</th>\n",
              "      <th>lodging_Other</th>\n",
              "      <th>lodging_Portland Sea View</th>\n",
              "      <th>dining_Lobsterama Viking</th>\n",
              "      <th>dining_Other</th>\n",
              "      <th>dining_Snack Shack Viking</th>\n",
              "      <th>rental_Other</th>\n",
              "      <th>rental_SUV</th>\n",
              "      <th>rental_Sedan</th>\n",
              "      <th>maine_historic_Yes</th>\n",
              "    </tr>\n",
              "  </thead>\n",
              "  <tbody>\n",
              "    <tr>\n",
              "      <th>merch_store</th>\n",
              "      <td>1.000000</td>\n",
              "      <td>-0.039043</td>\n",
              "      <td>-0.001408</td>\n",
              "      <td>-0.003323</td>\n",
              "      <td>0.000215</td>\n",
              "      <td>0.009228</td>\n",
              "      <td>-0.014557</td>\n",
              "      <td>0.000218</td>\n",
              "      <td>-0.005423</td>\n",
              "      <td>0.000847</td>\n",
              "      <td>-0.009403</td>\n",
              "      <td>0.010399</td>\n",
              "      <td>0.005591</td>\n",
              "      <td>-0.011179</td>\n",
              "      <td>-0.005989</td>\n",
              "      <td>-0.011086</td>\n",
              "      <td>0.016235</td>\n",
              "      <td>-0.011151</td>\n",
              "    </tr>\n",
              "    <tr>\n",
              "      <th>householdpax</th>\n",
              "      <td>-0.039043</td>\n",
              "      <td>1.000000</td>\n",
              "      <td>0.011800</td>\n",
              "      <td>0.022158</td>\n",
              "      <td>-0.027393</td>\n",
              "      <td>-0.007629</td>\n",
              "      <td>-0.001217</td>\n",
              "      <td>0.009145</td>\n",
              "      <td>-0.004848</td>\n",
              "      <td>-0.011863</td>\n",
              "      <td>-0.007281</td>\n",
              "      <td>0.010891</td>\n",
              "      <td>-0.004067</td>\n",
              "      <td>-0.004786</td>\n",
              "      <td>0.004777</td>\n",
              "      <td>-0.019618</td>\n",
              "      <td>0.007247</td>\n",
              "      <td>0.013359</td>\n",
              "    </tr>\n",
              "    <tr>\n",
              "      <th>AGI</th>\n",
              "      <td>-0.001408</td>\n",
              "      <td>0.011800</td>\n",
              "      <td>1.000000</td>\n",
              "      <td>-0.002198</td>\n",
              "      <td>0.012137</td>\n",
              "      <td>-0.007332</td>\n",
              "      <td>-0.012439</td>\n",
              "      <td>-0.023076</td>\n",
              "      <td>0.009686</td>\n",
              "      <td>-0.008182</td>\n",
              "      <td>0.008961</td>\n",
              "      <td>-0.000365</td>\n",
              "      <td>-0.002046</td>\n",
              "      <td>0.001461</td>\n",
              "      <td>-0.009289</td>\n",
              "      <td>0.017413</td>\n",
              "      <td>-0.010313</td>\n",
              "      <td>0.007137</td>\n",
              "    </tr>\n",
              "    <tr>\n",
              "      <th>state_Maine</th>\n",
              "      <td>-0.003323</td>\n",
              "      <td>0.022158</td>\n",
              "      <td>-0.002198</td>\n",
              "      <td>1.000000</td>\n",
              "      <td>-0.309386</td>\n",
              "      <td>-0.212154</td>\n",
              "      <td>-0.113327</td>\n",
              "      <td>-0.113473</td>\n",
              "      <td>-0.009866</td>\n",
              "      <td>0.023943</td>\n",
              "      <td>-0.005999</td>\n",
              "      <td>0.006615</td>\n",
              "      <td>0.011297</td>\n",
              "      <td>-0.021711</td>\n",
              "      <td>-0.006320</td>\n",
              "      <td>0.017523</td>\n",
              "      <td>-0.023037</td>\n",
              "      <td>0.001964</td>\n",
              "    </tr>\n",
              "    <tr>\n",
              "      <th>state_Massachusetts</th>\n",
              "      <td>0.000215</td>\n",
              "      <td>-0.027393</td>\n",
              "      <td>0.012137</td>\n",
              "      <td>-0.309386</td>\n",
              "      <td>1.000000</td>\n",
              "      <td>-0.387781</td>\n",
              "      <td>-0.207143</td>\n",
              "      <td>-0.207409</td>\n",
              "      <td>-0.007411</td>\n",
              "      <td>-0.027724</td>\n",
              "      <td>0.004720</td>\n",
              "      <td>-0.006679</td>\n",
              "      <td>0.001308</td>\n",
              "      <td>-0.000211</td>\n",
              "      <td>0.008153</td>\n",
              "      <td>-0.013940</td>\n",
              "      <td>-0.018195</td>\n",
              "      <td>-0.010409</td>\n",
              "    </tr>\n",
              "    <tr>\n",
              "      <th>state_New Hampshire</th>\n",
              "      <td>0.009228</td>\n",
              "      <td>-0.007629</td>\n",
              "      <td>-0.007332</td>\n",
              "      <td>-0.212154</td>\n",
              "      <td>-0.387781</td>\n",
              "      <td>1.000000</td>\n",
              "      <td>-0.142043</td>\n",
              "      <td>-0.142226</td>\n",
              "      <td>0.031141</td>\n",
              "      <td>-0.003044</td>\n",
              "      <td>0.009896</td>\n",
              "      <td>-0.008940</td>\n",
              "      <td>-0.003910</td>\n",
              "      <td>0.007296</td>\n",
              "      <td>-0.001282</td>\n",
              "      <td>0.000577</td>\n",
              "      <td>0.023104</td>\n",
              "      <td>0.021325</td>\n",
              "    </tr>\n",
              "    <tr>\n",
              "      <th>state_Rhode Island</th>\n",
              "      <td>-0.014557</td>\n",
              "      <td>-0.001217</td>\n",
              "      <td>-0.012439</td>\n",
              "      <td>-0.113327</td>\n",
              "      <td>-0.207143</td>\n",
              "      <td>-0.142043</td>\n",
              "      <td>1.000000</td>\n",
              "      <td>-0.075973</td>\n",
              "      <td>-0.022763</td>\n",
              "      <td>-0.009680</td>\n",
              "      <td>0.003680</td>\n",
              "      <td>0.008478</td>\n",
              "      <td>-0.011375</td>\n",
              "      <td>0.012431</td>\n",
              "      <td>-0.021684</td>\n",
              "      <td>0.000106</td>\n",
              "      <td>0.010859</td>\n",
              "      <td>0.005869</td>\n",
              "    </tr>\n",
              "    <tr>\n",
              "      <th>state_Vermont</th>\n",
              "      <td>0.000218</td>\n",
              "      <td>0.009145</td>\n",
              "      <td>-0.023076</td>\n",
              "      <td>-0.113473</td>\n",
              "      <td>-0.207409</td>\n",
              "      <td>-0.142226</td>\n",
              "      <td>-0.075973</td>\n",
              "      <td>1.000000</td>\n",
              "      <td>-0.023005</td>\n",
              "      <td>0.010357</td>\n",
              "      <td>-0.006288</td>\n",
              "      <td>-0.015112</td>\n",
              "      <td>0.017343</td>\n",
              "      <td>0.014019</td>\n",
              "      <td>0.018472</td>\n",
              "      <td>-0.016345</td>\n",
              "      <td>-0.008988</td>\n",
              "      <td>0.002420</td>\n",
              "    </tr>\n",
              "    <tr>\n",
              "      <th>lodging_Mainer Motel</th>\n",
              "      <td>-0.005423</td>\n",
              "      <td>-0.004848</td>\n",
              "      <td>0.009686</td>\n",
              "      <td>-0.009866</td>\n",
              "      <td>-0.007411</td>\n",
              "      <td>0.031141</td>\n",
              "      <td>-0.022763</td>\n",
              "      <td>-0.023005</td>\n",
              "      <td>1.000000</td>\n",
              "      <td>-0.255257</td>\n",
              "      <td>-0.211976</td>\n",
              "      <td>0.001502</td>\n",
              "      <td>0.009515</td>\n",
              "      <td>-0.019134</td>\n",
              "      <td>-0.008304</td>\n",
              "      <td>-0.000324</td>\n",
              "      <td>-0.004053</td>\n",
              "      <td>0.020822</td>\n",
              "    </tr>\n",
              "    <tr>\n",
              "      <th>lodging_Other</th>\n",
              "      <td>0.000847</td>\n",
              "      <td>-0.011863</td>\n",
              "      <td>-0.008182</td>\n",
              "      <td>0.023943</td>\n",
              "      <td>-0.027724</td>\n",
              "      <td>-0.003044</td>\n",
              "      <td>-0.009680</td>\n",
              "      <td>0.010357</td>\n",
              "      <td>-0.255257</td>\n",
              "      <td>1.000000</td>\n",
              "      <td>-0.329047</td>\n",
              "      <td>0.013563</td>\n",
              "      <td>-0.008778</td>\n",
              "      <td>-0.022273</td>\n",
              "      <td>0.010482</td>\n",
              "      <td>0.003272</td>\n",
              "      <td>-0.009924</td>\n",
              "      <td>0.012722</td>\n",
              "    </tr>\n",
              "    <tr>\n",
              "      <th>lodging_Portland Sea View</th>\n",
              "      <td>-0.009403</td>\n",
              "      <td>-0.007281</td>\n",
              "      <td>0.008961</td>\n",
              "      <td>-0.005999</td>\n",
              "      <td>0.004720</td>\n",
              "      <td>0.009896</td>\n",
              "      <td>0.003680</td>\n",
              "      <td>-0.006288</td>\n",
              "      <td>-0.211976</td>\n",
              "      <td>-0.329047</td>\n",
              "      <td>1.000000</td>\n",
              "      <td>-0.014193</td>\n",
              "      <td>0.002901</td>\n",
              "      <td>0.014371</td>\n",
              "      <td>-0.025168</td>\n",
              "      <td>0.013423</td>\n",
              "      <td>0.019697</td>\n",
              "      <td>0.007276</td>\n",
              "    </tr>\n",
              "    <tr>\n",
              "      <th>dining_Lobsterama Viking</th>\n",
              "      <td>0.010399</td>\n",
              "      <td>0.010891</td>\n",
              "      <td>-0.000365</td>\n",
              "      <td>0.006615</td>\n",
              "      <td>-0.006679</td>\n",
              "      <td>-0.008940</td>\n",
              "      <td>0.008478</td>\n",
              "      <td>-0.015112</td>\n",
              "      <td>0.001502</td>\n",
              "      <td>0.013563</td>\n",
              "      <td>-0.014193</td>\n",
              "      <td>1.000000</td>\n",
              "      <td>-0.461327</td>\n",
              "      <td>-0.263996</td>\n",
              "      <td>0.007241</td>\n",
              "      <td>0.002686</td>\n",
              "      <td>-0.012463</td>\n",
              "      <td>-0.017474</td>\n",
              "    </tr>\n",
              "    <tr>\n",
              "      <th>dining_Other</th>\n",
              "      <td>0.005591</td>\n",
              "      <td>-0.004067</td>\n",
              "      <td>-0.002046</td>\n",
              "      <td>0.011297</td>\n",
              "      <td>0.001308</td>\n",
              "      <td>-0.003910</td>\n",
              "      <td>-0.011375</td>\n",
              "      <td>0.017343</td>\n",
              "      <td>0.009515</td>\n",
              "      <td>-0.008778</td>\n",
              "      <td>0.002901</td>\n",
              "      <td>-0.461327</td>\n",
              "      <td>1.000000</td>\n",
              "      <td>-0.294979</td>\n",
              "      <td>0.002250</td>\n",
              "      <td>0.002161</td>\n",
              "      <td>0.014421</td>\n",
              "      <td>0.001389</td>\n",
              "    </tr>\n",
              "    <tr>\n",
              "      <th>dining_Snack Shack Viking</th>\n",
              "      <td>-0.011179</td>\n",
              "      <td>-0.004786</td>\n",
              "      <td>0.001461</td>\n",
              "      <td>-0.021711</td>\n",
              "      <td>-0.000211</td>\n",
              "      <td>0.007296</td>\n",
              "      <td>0.012431</td>\n",
              "      <td>0.014019</td>\n",
              "      <td>-0.019134</td>\n",
              "      <td>-0.022273</td>\n",
              "      <td>0.014371</td>\n",
              "      <td>-0.263996</td>\n",
              "      <td>-0.294979</td>\n",
              "      <td>1.000000</td>\n",
              "      <td>-0.009374</td>\n",
              "      <td>0.002170</td>\n",
              "      <td>-0.015619</td>\n",
              "      <td>-0.012467</td>\n",
              "    </tr>\n",
              "    <tr>\n",
              "      <th>rental_Other</th>\n",
              "      <td>-0.005989</td>\n",
              "      <td>0.004777</td>\n",
              "      <td>-0.009289</td>\n",
              "      <td>-0.006320</td>\n",
              "      <td>0.008153</td>\n",
              "      <td>-0.001282</td>\n",
              "      <td>-0.021684</td>\n",
              "      <td>0.018472</td>\n",
              "      <td>-0.008304</td>\n",
              "      <td>0.010482</td>\n",
              "      <td>-0.025168</td>\n",
              "      <td>0.007241</td>\n",
              "      <td>0.002250</td>\n",
              "      <td>-0.009374</td>\n",
              "      <td>1.000000</td>\n",
              "      <td>-0.509001</td>\n",
              "      <td>-0.149475</td>\n",
              "      <td>-0.019430</td>\n",
              "    </tr>\n",
              "    <tr>\n",
              "      <th>rental_SUV</th>\n",
              "      <td>-0.011086</td>\n",
              "      <td>-0.019618</td>\n",
              "      <td>0.017413</td>\n",
              "      <td>0.017523</td>\n",
              "      <td>-0.013940</td>\n",
              "      <td>0.000577</td>\n",
              "      <td>0.000106</td>\n",
              "      <td>-0.016345</td>\n",
              "      <td>-0.000324</td>\n",
              "      <td>0.003272</td>\n",
              "      <td>0.013423</td>\n",
              "      <td>0.002686</td>\n",
              "      <td>0.002161</td>\n",
              "      <td>0.002170</td>\n",
              "      <td>-0.509001</td>\n",
              "      <td>1.000000</td>\n",
              "      <td>-0.287874</td>\n",
              "      <td>-0.011542</td>\n",
              "    </tr>\n",
              "    <tr>\n",
              "      <th>rental_Sedan</th>\n",
              "      <td>0.016235</td>\n",
              "      <td>0.007247</td>\n",
              "      <td>-0.010313</td>\n",
              "      <td>-0.023037</td>\n",
              "      <td>-0.018195</td>\n",
              "      <td>0.023104</td>\n",
              "      <td>0.010859</td>\n",
              "      <td>-0.008988</td>\n",
              "      <td>-0.004053</td>\n",
              "      <td>-0.009924</td>\n",
              "      <td>0.019697</td>\n",
              "      <td>-0.012463</td>\n",
              "      <td>0.014421</td>\n",
              "      <td>-0.015619</td>\n",
              "      <td>-0.149475</td>\n",
              "      <td>-0.287874</td>\n",
              "      <td>1.000000</td>\n",
              "      <td>0.015122</td>\n",
              "    </tr>\n",
              "    <tr>\n",
              "      <th>maine_historic_Yes</th>\n",
              "      <td>-0.011151</td>\n",
              "      <td>0.013359</td>\n",
              "      <td>0.007137</td>\n",
              "      <td>0.001964</td>\n",
              "      <td>-0.010409</td>\n",
              "      <td>0.021325</td>\n",
              "      <td>0.005869</td>\n",
              "      <td>0.002420</td>\n",
              "      <td>0.020822</td>\n",
              "      <td>0.012722</td>\n",
              "      <td>0.007276</td>\n",
              "      <td>-0.017474</td>\n",
              "      <td>0.001389</td>\n",
              "      <td>-0.012467</td>\n",
              "      <td>-0.019430</td>\n",
              "      <td>-0.011542</td>\n",
              "      <td>0.015122</td>\n",
              "      <td>1.000000</td>\n",
              "    </tr>\n",
              "  </tbody>\n",
              "</table>\n",
              "</div>\n",
              "      <button class=\"colab-df-convert\" onclick=\"convertToInteractive('df-2858e5ef-f891-4faf-95e5-c30c57877716')\"\n",
              "              title=\"Convert this dataframe to an interactive table.\"\n",
              "              style=\"display:none;\">\n",
              "        \n",
              "  <svg xmlns=\"http://www.w3.org/2000/svg\" height=\"24px\"viewBox=\"0 0 24 24\"\n",
              "       width=\"24px\">\n",
              "    <path d=\"M0 0h24v24H0V0z\" fill=\"none\"/>\n",
              "    <path d=\"M18.56 5.44l.94 2.06.94-2.06 2.06-.94-2.06-.94-.94-2.06-.94 2.06-2.06.94zm-11 1L8.5 8.5l.94-2.06 2.06-.94-2.06-.94L8.5 2.5l-.94 2.06-2.06.94zm10 10l.94 2.06.94-2.06 2.06-.94-2.06-.94-.94-2.06-.94 2.06-2.06.94z\"/><path d=\"M17.41 7.96l-1.37-1.37c-.4-.4-.92-.59-1.43-.59-.52 0-1.04.2-1.43.59L10.3 9.45l-7.72 7.72c-.78.78-.78 2.05 0 2.83L4 21.41c.39.39.9.59 1.41.59.51 0 1.02-.2 1.41-.59l7.78-7.78 2.81-2.81c.8-.78.8-2.07 0-2.86zM5.41 20L4 18.59l7.72-7.72 1.47 1.35L5.41 20z\"/>\n",
              "  </svg>\n",
              "      </button>\n",
              "      \n",
              "  <style>\n",
              "    .colab-df-container {\n",
              "      display:flex;\n",
              "      flex-wrap:wrap;\n",
              "      gap: 12px;\n",
              "    }\n",
              "\n",
              "    .colab-df-convert {\n",
              "      background-color: #E8F0FE;\n",
              "      border: none;\n",
              "      border-radius: 50%;\n",
              "      cursor: pointer;\n",
              "      display: none;\n",
              "      fill: #1967D2;\n",
              "      height: 32px;\n",
              "      padding: 0 0 0 0;\n",
              "      width: 32px;\n",
              "    }\n",
              "\n",
              "    .colab-df-convert:hover {\n",
              "      background-color: #E2EBFA;\n",
              "      box-shadow: 0px 1px 2px rgba(60, 64, 67, 0.3), 0px 1px 3px 1px rgba(60, 64, 67, 0.15);\n",
              "      fill: #174EA6;\n",
              "    }\n",
              "\n",
              "    [theme=dark] .colab-df-convert {\n",
              "      background-color: #3B4455;\n",
              "      fill: #D2E3FC;\n",
              "    }\n",
              "\n",
              "    [theme=dark] .colab-df-convert:hover {\n",
              "      background-color: #434B5C;\n",
              "      box-shadow: 0px 1px 3px 1px rgba(0, 0, 0, 0.15);\n",
              "      filter: drop-shadow(0px 1px 2px rgba(0, 0, 0, 0.3));\n",
              "      fill: #FFFFFF;\n",
              "    }\n",
              "  </style>\n",
              "\n",
              "      <script>\n",
              "        const buttonEl =\n",
              "          document.querySelector('#df-2858e5ef-f891-4faf-95e5-c30c57877716 button.colab-df-convert');\n",
              "        buttonEl.style.display =\n",
              "          google.colab.kernel.accessAllowed ? 'block' : 'none';\n",
              "\n",
              "        async function convertToInteractive(key) {\n",
              "          const element = document.querySelector('#df-2858e5ef-f891-4faf-95e5-c30c57877716');\n",
              "          const dataTable =\n",
              "            await google.colab.kernel.invokeFunction('convertToInteractive',\n",
              "                                                     [key], {});\n",
              "          if (!dataTable) return;\n",
              "\n",
              "          const docLinkHtml = 'Like what you see? Visit the ' +\n",
              "            '<a target=\"_blank\" href=https://colab.research.google.com/notebooks/data_table.ipynb>data table notebook</a>'\n",
              "            + ' to learn more about interactive tables.';\n",
              "          element.innerHTML = '';\n",
              "          dataTable['output_type'] = 'display_data';\n",
              "          await google.colab.output.renderOutput(dataTable, element);\n",
              "          const docLink = document.createElement('div');\n",
              "          docLink.innerHTML = docLinkHtml;\n",
              "          element.appendChild(docLink);\n",
              "        }\n",
              "      </script>\n",
              "    </div>\n",
              "  </div>\n",
              "  "
            ]
          },
          "metadata": {},
          "execution_count": 13
        }
      ]
    },
    {
      "cell_type": "code",
      "source": [
        "X.describe()"
      ],
      "metadata": {
        "colab": {
          "base_uri": "https://localhost:8080/",
          "height": 382
        },
        "id": "Lcxqhr0rla9P",
        "outputId": "fd4510ce-ae95-4185-cbaf-e502cc02f5e7"
      },
      "execution_count": 16,
      "outputs": [
        {
          "output_type": "execute_result",
          "data": {
            "text/plain": [
              "       merch_store  householdpax            AGI  state_Maine  \\\n",
              "count  5927.000000   5927.000000    5927.000000  5927.000000   \n",
              "mean     78.813492      3.155728  131213.639863     0.144761   \n",
              "std      12.047879      1.133754    8826.938016     0.351890   \n",
              "min      33.742908      1.000000  101707.425922     0.000000   \n",
              "25%      70.690460      2.000000  125430.067016     0.000000   \n",
              "50%      78.846787      3.000000  131191.592780     0.000000   \n",
              "75%      86.744009      4.000000  137195.095168     0.000000   \n",
              "max     128.004971      7.000000  166768.851963     1.000000   \n",
              "\n",
              "       state_Massachusetts  state_New Hampshire  state_Rhode Island  \\\n",
              "count          5927.000000          5927.000000         5927.000000   \n",
              "mean              0.361228             0.210056            0.070525   \n",
              "std               0.480397             0.407382            0.256051   \n",
              "min               0.000000             0.000000            0.000000   \n",
              "25%               0.000000             0.000000            0.000000   \n",
              "50%               0.000000             0.000000            0.000000   \n",
              "75%               1.000000             0.000000            0.000000   \n",
              "max               1.000000             1.000000            1.000000   \n",
              "\n",
              "       state_Vermont  lodging_Mainer Motel  lodging_Other  \\\n",
              "count    5927.000000           5927.000000    5927.000000   \n",
              "mean        0.070693              0.141218       0.283786   \n",
              "std         0.256334              0.348276       0.450872   \n",
              "min         0.000000              0.000000       0.000000   \n",
              "25%         0.000000              0.000000       0.000000   \n",
              "50%         0.000000              0.000000       0.000000   \n",
              "75%         0.000000              0.000000       1.000000   \n",
              "max         1.000000              1.000000       1.000000   \n",
              "\n",
              "       lodging_Portland Sea View  dining_Lobsterama Viking  dining_Other  \\\n",
              "count                5927.000000               5927.000000   5927.000000   \n",
              "mean                    0.214611                  0.292222      0.340138   \n",
              "std                     0.410587                  0.454822      0.473795   \n",
              "min                     0.000000                  0.000000      0.000000   \n",
              "25%                     0.000000                  0.000000      0.000000   \n",
              "50%                     0.000000                  0.000000      0.000000   \n",
              "75%                     0.000000                  1.000000      1.000000   \n",
              "max                     1.000000                  1.000000      1.000000   \n",
              "\n",
              "       dining_Snack Shack Viking  rental_Other   rental_SUV  rental_Sedan  \\\n",
              "count                5927.000000   5927.000000  5927.000000   5927.000000   \n",
              "mean                    0.144424      0.209043     0.495023      0.077948   \n",
              "std                     0.351549      0.406660     0.500017      0.268113   \n",
              "min                     0.000000      0.000000     0.000000      0.000000   \n",
              "25%                     0.000000      0.000000     0.000000      0.000000   \n",
              "50%                     0.000000      0.000000     0.000000      0.000000   \n",
              "75%                     0.000000      0.000000     1.000000      0.000000   \n",
              "max                     1.000000      1.000000     1.000000      1.000000   \n",
              "\n",
              "       maine_historic_Yes  \n",
              "count         5927.000000  \n",
              "mean             0.580395  \n",
              "std              0.493536  \n",
              "min              0.000000  \n",
              "25%              0.000000  \n",
              "50%              1.000000  \n",
              "75%              1.000000  \n",
              "max              1.000000  "
            ],
            "text/html": [
              "\n",
              "  <div id=\"df-8f94017e-7223-49b4-9733-3328d77a55e6\">\n",
              "    <div class=\"colab-df-container\">\n",
              "      <div>\n",
              "<style scoped>\n",
              "    .dataframe tbody tr th:only-of-type {\n",
              "        vertical-align: middle;\n",
              "    }\n",
              "\n",
              "    .dataframe tbody tr th {\n",
              "        vertical-align: top;\n",
              "    }\n",
              "\n",
              "    .dataframe thead th {\n",
              "        text-align: right;\n",
              "    }\n",
              "</style>\n",
              "<table border=\"1\" class=\"dataframe\">\n",
              "  <thead>\n",
              "    <tr style=\"text-align: right;\">\n",
              "      <th></th>\n",
              "      <th>merch_store</th>\n",
              "      <th>householdpax</th>\n",
              "      <th>AGI</th>\n",
              "      <th>state_Maine</th>\n",
              "      <th>state_Massachusetts</th>\n",
              "      <th>state_New Hampshire</th>\n",
              "      <th>state_Rhode Island</th>\n",
              "      <th>state_Vermont</th>\n",
              "      <th>lodging_Mainer Motel</th>\n",
              "      <th>lodging_Other</th>\n",
              "      <th>lodging_Portland Sea View</th>\n",
              "      <th>dining_Lobsterama Viking</th>\n",
              "      <th>dining_Other</th>\n",
              "      <th>dining_Snack Shack Viking</th>\n",
              "      <th>rental_Other</th>\n",
              "      <th>rental_SUV</th>\n",
              "      <th>rental_Sedan</th>\n",
              "      <th>maine_historic_Yes</th>\n",
              "    </tr>\n",
              "  </thead>\n",
              "  <tbody>\n",
              "    <tr>\n",
              "      <th>count</th>\n",
              "      <td>5927.000000</td>\n",
              "      <td>5927.000000</td>\n",
              "      <td>5927.000000</td>\n",
              "      <td>5927.000000</td>\n",
              "      <td>5927.000000</td>\n",
              "      <td>5927.000000</td>\n",
              "      <td>5927.000000</td>\n",
              "      <td>5927.000000</td>\n",
              "      <td>5927.000000</td>\n",
              "      <td>5927.000000</td>\n",
              "      <td>5927.000000</td>\n",
              "      <td>5927.000000</td>\n",
              "      <td>5927.000000</td>\n",
              "      <td>5927.000000</td>\n",
              "      <td>5927.000000</td>\n",
              "      <td>5927.000000</td>\n",
              "      <td>5927.000000</td>\n",
              "      <td>5927.000000</td>\n",
              "    </tr>\n",
              "    <tr>\n",
              "      <th>mean</th>\n",
              "      <td>78.813492</td>\n",
              "      <td>3.155728</td>\n",
              "      <td>131213.639863</td>\n",
              "      <td>0.144761</td>\n",
              "      <td>0.361228</td>\n",
              "      <td>0.210056</td>\n",
              "      <td>0.070525</td>\n",
              "      <td>0.070693</td>\n",
              "      <td>0.141218</td>\n",
              "      <td>0.283786</td>\n",
              "      <td>0.214611</td>\n",
              "      <td>0.292222</td>\n",
              "      <td>0.340138</td>\n",
              "      <td>0.144424</td>\n",
              "      <td>0.209043</td>\n",
              "      <td>0.495023</td>\n",
              "      <td>0.077948</td>\n",
              "      <td>0.580395</td>\n",
              "    </tr>\n",
              "    <tr>\n",
              "      <th>std</th>\n",
              "      <td>12.047879</td>\n",
              "      <td>1.133754</td>\n",
              "      <td>8826.938016</td>\n",
              "      <td>0.351890</td>\n",
              "      <td>0.480397</td>\n",
              "      <td>0.407382</td>\n",
              "      <td>0.256051</td>\n",
              "      <td>0.256334</td>\n",
              "      <td>0.348276</td>\n",
              "      <td>0.450872</td>\n",
              "      <td>0.410587</td>\n",
              "      <td>0.454822</td>\n",
              "      <td>0.473795</td>\n",
              "      <td>0.351549</td>\n",
              "      <td>0.406660</td>\n",
              "      <td>0.500017</td>\n",
              "      <td>0.268113</td>\n",
              "      <td>0.493536</td>\n",
              "    </tr>\n",
              "    <tr>\n",
              "      <th>min</th>\n",
              "      <td>33.742908</td>\n",
              "      <td>1.000000</td>\n",
              "      <td>101707.425922</td>\n",
              "      <td>0.000000</td>\n",
              "      <td>0.000000</td>\n",
              "      <td>0.000000</td>\n",
              "      <td>0.000000</td>\n",
              "      <td>0.000000</td>\n",
              "      <td>0.000000</td>\n",
              "      <td>0.000000</td>\n",
              "      <td>0.000000</td>\n",
              "      <td>0.000000</td>\n",
              "      <td>0.000000</td>\n",
              "      <td>0.000000</td>\n",
              "      <td>0.000000</td>\n",
              "      <td>0.000000</td>\n",
              "      <td>0.000000</td>\n",
              "      <td>0.000000</td>\n",
              "    </tr>\n",
              "    <tr>\n",
              "      <th>25%</th>\n",
              "      <td>70.690460</td>\n",
              "      <td>2.000000</td>\n",
              "      <td>125430.067016</td>\n",
              "      <td>0.000000</td>\n",
              "      <td>0.000000</td>\n",
              "      <td>0.000000</td>\n",
              "      <td>0.000000</td>\n",
              "      <td>0.000000</td>\n",
              "      <td>0.000000</td>\n",
              "      <td>0.000000</td>\n",
              "      <td>0.000000</td>\n",
              "      <td>0.000000</td>\n",
              "      <td>0.000000</td>\n",
              "      <td>0.000000</td>\n",
              "      <td>0.000000</td>\n",
              "      <td>0.000000</td>\n",
              "      <td>0.000000</td>\n",
              "      <td>0.000000</td>\n",
              "    </tr>\n",
              "    <tr>\n",
              "      <th>50%</th>\n",
              "      <td>78.846787</td>\n",
              "      <td>3.000000</td>\n",
              "      <td>131191.592780</td>\n",
              "      <td>0.000000</td>\n",
              "      <td>0.000000</td>\n",
              "      <td>0.000000</td>\n",
              "      <td>0.000000</td>\n",
              "      <td>0.000000</td>\n",
              "      <td>0.000000</td>\n",
              "      <td>0.000000</td>\n",
              "      <td>0.000000</td>\n",
              "      <td>0.000000</td>\n",
              "      <td>0.000000</td>\n",
              "      <td>0.000000</td>\n",
              "      <td>0.000000</td>\n",
              "      <td>0.000000</td>\n",
              "      <td>0.000000</td>\n",
              "      <td>1.000000</td>\n",
              "    </tr>\n",
              "    <tr>\n",
              "      <th>75%</th>\n",
              "      <td>86.744009</td>\n",
              "      <td>4.000000</td>\n",
              "      <td>137195.095168</td>\n",
              "      <td>0.000000</td>\n",
              "      <td>1.000000</td>\n",
              "      <td>0.000000</td>\n",
              "      <td>0.000000</td>\n",
              "      <td>0.000000</td>\n",
              "      <td>0.000000</td>\n",
              "      <td>1.000000</td>\n",
              "      <td>0.000000</td>\n",
              "      <td>1.000000</td>\n",
              "      <td>1.000000</td>\n",
              "      <td>0.000000</td>\n",
              "      <td>0.000000</td>\n",
              "      <td>1.000000</td>\n",
              "      <td>0.000000</td>\n",
              "      <td>1.000000</td>\n",
              "    </tr>\n",
              "    <tr>\n",
              "      <th>max</th>\n",
              "      <td>128.004971</td>\n",
              "      <td>7.000000</td>\n",
              "      <td>166768.851963</td>\n",
              "      <td>1.000000</td>\n",
              "      <td>1.000000</td>\n",
              "      <td>1.000000</td>\n",
              "      <td>1.000000</td>\n",
              "      <td>1.000000</td>\n",
              "      <td>1.000000</td>\n",
              "      <td>1.000000</td>\n",
              "      <td>1.000000</td>\n",
              "      <td>1.000000</td>\n",
              "      <td>1.000000</td>\n",
              "      <td>1.000000</td>\n",
              "      <td>1.000000</td>\n",
              "      <td>1.000000</td>\n",
              "      <td>1.000000</td>\n",
              "      <td>1.000000</td>\n",
              "    </tr>\n",
              "  </tbody>\n",
              "</table>\n",
              "</div>\n",
              "      <button class=\"colab-df-convert\" onclick=\"convertToInteractive('df-8f94017e-7223-49b4-9733-3328d77a55e6')\"\n",
              "              title=\"Convert this dataframe to an interactive table.\"\n",
              "              style=\"display:none;\">\n",
              "        \n",
              "  <svg xmlns=\"http://www.w3.org/2000/svg\" height=\"24px\"viewBox=\"0 0 24 24\"\n",
              "       width=\"24px\">\n",
              "    <path d=\"M0 0h24v24H0V0z\" fill=\"none\"/>\n",
              "    <path d=\"M18.56 5.44l.94 2.06.94-2.06 2.06-.94-2.06-.94-.94-2.06-.94 2.06-2.06.94zm-11 1L8.5 8.5l.94-2.06 2.06-.94-2.06-.94L8.5 2.5l-.94 2.06-2.06.94zm10 10l.94 2.06.94-2.06 2.06-.94-2.06-.94-.94-2.06-.94 2.06-2.06.94z\"/><path d=\"M17.41 7.96l-1.37-1.37c-.4-.4-.92-.59-1.43-.59-.52 0-1.04.2-1.43.59L10.3 9.45l-7.72 7.72c-.78.78-.78 2.05 0 2.83L4 21.41c.39.39.9.59 1.41.59.51 0 1.02-.2 1.41-.59l7.78-7.78 2.81-2.81c.8-.78.8-2.07 0-2.86zM5.41 20L4 18.59l7.72-7.72 1.47 1.35L5.41 20z\"/>\n",
              "  </svg>\n",
              "      </button>\n",
              "      \n",
              "  <style>\n",
              "    .colab-df-container {\n",
              "      display:flex;\n",
              "      flex-wrap:wrap;\n",
              "      gap: 12px;\n",
              "    }\n",
              "\n",
              "    .colab-df-convert {\n",
              "      background-color: #E8F0FE;\n",
              "      border: none;\n",
              "      border-radius: 50%;\n",
              "      cursor: pointer;\n",
              "      display: none;\n",
              "      fill: #1967D2;\n",
              "      height: 32px;\n",
              "      padding: 0 0 0 0;\n",
              "      width: 32px;\n",
              "    }\n",
              "\n",
              "    .colab-df-convert:hover {\n",
              "      background-color: #E2EBFA;\n",
              "      box-shadow: 0px 1px 2px rgba(60, 64, 67, 0.3), 0px 1px 3px 1px rgba(60, 64, 67, 0.15);\n",
              "      fill: #174EA6;\n",
              "    }\n",
              "\n",
              "    [theme=dark] .colab-df-convert {\n",
              "      background-color: #3B4455;\n",
              "      fill: #D2E3FC;\n",
              "    }\n",
              "\n",
              "    [theme=dark] .colab-df-convert:hover {\n",
              "      background-color: #434B5C;\n",
              "      box-shadow: 0px 1px 3px 1px rgba(0, 0, 0, 0.15);\n",
              "      filter: drop-shadow(0px 1px 2px rgba(0, 0, 0, 0.3));\n",
              "      fill: #FFFFFF;\n",
              "    }\n",
              "  </style>\n",
              "\n",
              "      <script>\n",
              "        const buttonEl =\n",
              "          document.querySelector('#df-8f94017e-7223-49b4-9733-3328d77a55e6 button.colab-df-convert');\n",
              "        buttonEl.style.display =\n",
              "          google.colab.kernel.accessAllowed ? 'block' : 'none';\n",
              "\n",
              "        async function convertToInteractive(key) {\n",
              "          const element = document.querySelector('#df-8f94017e-7223-49b4-9733-3328d77a55e6');\n",
              "          const dataTable =\n",
              "            await google.colab.kernel.invokeFunction('convertToInteractive',\n",
              "                                                     [key], {});\n",
              "          if (!dataTable) return;\n",
              "\n",
              "          const docLinkHtml = 'Like what you see? Visit the ' +\n",
              "            '<a target=\"_blank\" href=https://colab.research.google.com/notebooks/data_table.ipynb>data table notebook</a>'\n",
              "            + ' to learn more about interactive tables.';\n",
              "          element.innerHTML = '';\n",
              "          dataTable['output_type'] = 'display_data';\n",
              "          await google.colab.output.renderOutput(dataTable, element);\n",
              "          const docLink = document.createElement('div');\n",
              "          docLink.innerHTML = docLinkHtml;\n",
              "          element.appendChild(docLink);\n",
              "        }\n",
              "      </script>\n",
              "    </div>\n",
              "  </div>\n",
              "  "
            ]
          },
          "metadata": {},
          "execution_count": 16
        }
      ]
    },
    {
      "cell_type": "markdown",
      "source": [
        "**a. How did you pick your seed value?**"
      ],
      "metadata": {
        "id": "-57vH5_xf4BA"
      }
    },
    {
      "cell_type": "code",
      "source": [
        "X_train,X_test,y_train,y_test = train_test_split(X,y,test_size=0.4,random_state=302)"
      ],
      "metadata": {
        "id": "Z5VLTghyf5K2"
      },
      "execution_count": 19,
      "outputs": []
    },
    {
      "cell_type": "markdown",
      "source": [
        "*I have chosen the seed state based on my apartment number. I live in Brighton and my apartment number is 302. So I have chosen the seed value as 302.*"
      ],
      "metadata": {
        "id": "Pm1J-taLf59W"
      }
    },
    {
      "cell_type": "markdown",
      "source": [
        "**G. Build a logistic regression model using Python, with the outcome variable return.\n",
        "Use the rest of the variables from the dataset as inputs (except ID). Remember\n",
        "to use only your training data to build this model.**"
      ],
      "metadata": {
        "id": "B9rBDDgUf7Zf"
      }
    },
    {
      "cell_type": "code",
      "source": [
        "from sklearn.model_selection import train_test_split\n",
        "from sklearn.linear_model import LogisticRegression\n",
        "from sklearn.metrics import accuracy_score\n",
        "from sklearn.metrics import confusion_matrix"
      ],
      "metadata": {
        "id": "6wxyqY8dhpx3"
      },
      "execution_count": 18,
      "outputs": []
    },
    {
      "cell_type": "code",
      "source": [
        "logr_model= LogisticRegression()\n",
        "logr_model.fit(X_train,y_train)\n",
        "predict_test=logr_model.predict(X_test)\n",
        "accuracy_score(y_test,predict_test)"
      ],
      "metadata": {
        "colab": {
          "base_uri": "https://localhost:8080/",
          "height": 0
        },
        "id": "RQjMZ8COgAdA",
        "outputId": "b4a6cf59-209d-4ed5-be8b-7085d6d43c4d"
      },
      "execution_count": 20,
      "outputs": [
        {
          "output_type": "execute_result",
          "data": {
            "text/plain": [
              "0.6579502319696331"
            ]
          },
          "metadata": {},
          "execution_count": 20
        }
      ]
    },
    {
      "cell_type": "markdown",
      "source": [
        "**H. Show your model’s coefficients.**"
      ],
      "metadata": {
        "id": "zPPp9FKxgDhC"
      }
    },
    {
      "cell_type": "code",
      "source": [
        "import numpy as np\n",
        "import pandas as pd\n",
        "import matplotlib.pyplot as plt\n",
        "import seaborn as sns"
      ],
      "metadata": {
        "id": "uRsmXkaViUc3"
      },
      "execution_count": 21,
      "outputs": []
    },
    {
      "cell_type": "code",
      "source": [
        "pd.DataFrame(data=logr_model.coef_.transpose(),index=X_train.columns,columns=['Coef'])"
      ],
      "metadata": {
        "colab": {
          "base_uri": "https://localhost:8080/",
          "height": 616
        },
        "id": "qbolgbdsgHOy",
        "outputId": "2627759f-94ad-4bf8-e95f-c02226d94607"
      },
      "execution_count": 22,
      "outputs": [
        {
          "output_type": "execute_result",
          "data": {
            "text/plain": [
              "                               Coef\n",
              "merch_store                0.042236\n",
              "householdpax               0.000500\n",
              "AGI                       -0.000021\n",
              "state_Maine                0.000006\n",
              "state_Massachusetts       -0.000129\n",
              "state_New Hampshire        0.000112\n",
              "state_Rhode Island         0.000055\n",
              "state_Vermont             -0.000006\n",
              "lodging_Mainer Motel      -0.000397\n",
              "lodging_Other              0.000121\n",
              "lodging_Portland Sea View  0.000152\n",
              "dining_Lobsterama Viking   0.000030\n",
              "dining_Other               0.000074\n",
              "dining_Snack Shack Viking -0.000045\n",
              "rental_Other               0.000023\n",
              "rental_SUV                 0.000064\n",
              "rental_Sedan              -0.000027\n",
              "maine_historic_Yes        -0.000041"
            ],
            "text/html": [
              "\n",
              "  <div id=\"df-add55a03-8cad-4073-a4b6-377fd09120f7\">\n",
              "    <div class=\"colab-df-container\">\n",
              "      <div>\n",
              "<style scoped>\n",
              "    .dataframe tbody tr th:only-of-type {\n",
              "        vertical-align: middle;\n",
              "    }\n",
              "\n",
              "    .dataframe tbody tr th {\n",
              "        vertical-align: top;\n",
              "    }\n",
              "\n",
              "    .dataframe thead th {\n",
              "        text-align: right;\n",
              "    }\n",
              "</style>\n",
              "<table border=\"1\" class=\"dataframe\">\n",
              "  <thead>\n",
              "    <tr style=\"text-align: right;\">\n",
              "      <th></th>\n",
              "      <th>Coef</th>\n",
              "    </tr>\n",
              "  </thead>\n",
              "  <tbody>\n",
              "    <tr>\n",
              "      <th>merch_store</th>\n",
              "      <td>0.042236</td>\n",
              "    </tr>\n",
              "    <tr>\n",
              "      <th>householdpax</th>\n",
              "      <td>0.000500</td>\n",
              "    </tr>\n",
              "    <tr>\n",
              "      <th>AGI</th>\n",
              "      <td>-0.000021</td>\n",
              "    </tr>\n",
              "    <tr>\n",
              "      <th>state_Maine</th>\n",
              "      <td>0.000006</td>\n",
              "    </tr>\n",
              "    <tr>\n",
              "      <th>state_Massachusetts</th>\n",
              "      <td>-0.000129</td>\n",
              "    </tr>\n",
              "    <tr>\n",
              "      <th>state_New Hampshire</th>\n",
              "      <td>0.000112</td>\n",
              "    </tr>\n",
              "    <tr>\n",
              "      <th>state_Rhode Island</th>\n",
              "      <td>0.000055</td>\n",
              "    </tr>\n",
              "    <tr>\n",
              "      <th>state_Vermont</th>\n",
              "      <td>-0.000006</td>\n",
              "    </tr>\n",
              "    <tr>\n",
              "      <th>lodging_Mainer Motel</th>\n",
              "      <td>-0.000397</td>\n",
              "    </tr>\n",
              "    <tr>\n",
              "      <th>lodging_Other</th>\n",
              "      <td>0.000121</td>\n",
              "    </tr>\n",
              "    <tr>\n",
              "      <th>lodging_Portland Sea View</th>\n",
              "      <td>0.000152</td>\n",
              "    </tr>\n",
              "    <tr>\n",
              "      <th>dining_Lobsterama Viking</th>\n",
              "      <td>0.000030</td>\n",
              "    </tr>\n",
              "    <tr>\n",
              "      <th>dining_Other</th>\n",
              "      <td>0.000074</td>\n",
              "    </tr>\n",
              "    <tr>\n",
              "      <th>dining_Snack Shack Viking</th>\n",
              "      <td>-0.000045</td>\n",
              "    </tr>\n",
              "    <tr>\n",
              "      <th>rental_Other</th>\n",
              "      <td>0.000023</td>\n",
              "    </tr>\n",
              "    <tr>\n",
              "      <th>rental_SUV</th>\n",
              "      <td>0.000064</td>\n",
              "    </tr>\n",
              "    <tr>\n",
              "      <th>rental_Sedan</th>\n",
              "      <td>-0.000027</td>\n",
              "    </tr>\n",
              "    <tr>\n",
              "      <th>maine_historic_Yes</th>\n",
              "      <td>-0.000041</td>\n",
              "    </tr>\n",
              "  </tbody>\n",
              "</table>\n",
              "</div>\n",
              "      <button class=\"colab-df-convert\" onclick=\"convertToInteractive('df-add55a03-8cad-4073-a4b6-377fd09120f7')\"\n",
              "              title=\"Convert this dataframe to an interactive table.\"\n",
              "              style=\"display:none;\">\n",
              "        \n",
              "  <svg xmlns=\"http://www.w3.org/2000/svg\" height=\"24px\"viewBox=\"0 0 24 24\"\n",
              "       width=\"24px\">\n",
              "    <path d=\"M0 0h24v24H0V0z\" fill=\"none\"/>\n",
              "    <path d=\"M18.56 5.44l.94 2.06.94-2.06 2.06-.94-2.06-.94-.94-2.06-.94 2.06-2.06.94zm-11 1L8.5 8.5l.94-2.06 2.06-.94-2.06-.94L8.5 2.5l-.94 2.06-2.06.94zm10 10l.94 2.06.94-2.06 2.06-.94-2.06-.94-.94-2.06-.94 2.06-2.06.94z\"/><path d=\"M17.41 7.96l-1.37-1.37c-.4-.4-.92-.59-1.43-.59-.52 0-1.04.2-1.43.59L10.3 9.45l-7.72 7.72c-.78.78-.78 2.05 0 2.83L4 21.41c.39.39.9.59 1.41.59.51 0 1.02-.2 1.41-.59l7.78-7.78 2.81-2.81c.8-.78.8-2.07 0-2.86zM5.41 20L4 18.59l7.72-7.72 1.47 1.35L5.41 20z\"/>\n",
              "  </svg>\n",
              "      </button>\n",
              "      \n",
              "  <style>\n",
              "    .colab-df-container {\n",
              "      display:flex;\n",
              "      flex-wrap:wrap;\n",
              "      gap: 12px;\n",
              "    }\n",
              "\n",
              "    .colab-df-convert {\n",
              "      background-color: #E8F0FE;\n",
              "      border: none;\n",
              "      border-radius: 50%;\n",
              "      cursor: pointer;\n",
              "      display: none;\n",
              "      fill: #1967D2;\n",
              "      height: 32px;\n",
              "      padding: 0 0 0 0;\n",
              "      width: 32px;\n",
              "    }\n",
              "\n",
              "    .colab-df-convert:hover {\n",
              "      background-color: #E2EBFA;\n",
              "      box-shadow: 0px 1px 2px rgba(60, 64, 67, 0.3), 0px 1px 3px 1px rgba(60, 64, 67, 0.15);\n",
              "      fill: #174EA6;\n",
              "    }\n",
              "\n",
              "    [theme=dark] .colab-df-convert {\n",
              "      background-color: #3B4455;\n",
              "      fill: #D2E3FC;\n",
              "    }\n",
              "\n",
              "    [theme=dark] .colab-df-convert:hover {\n",
              "      background-color: #434B5C;\n",
              "      box-shadow: 0px 1px 3px 1px rgba(0, 0, 0, 0.15);\n",
              "      filter: drop-shadow(0px 1px 2px rgba(0, 0, 0, 0.3));\n",
              "      fill: #FFFFFF;\n",
              "    }\n",
              "  </style>\n",
              "\n",
              "      <script>\n",
              "        const buttonEl =\n",
              "          document.querySelector('#df-add55a03-8cad-4073-a4b6-377fd09120f7 button.colab-df-convert');\n",
              "        buttonEl.style.display =\n",
              "          google.colab.kernel.accessAllowed ? 'block' : 'none';\n",
              "\n",
              "        async function convertToInteractive(key) {\n",
              "          const element = document.querySelector('#df-add55a03-8cad-4073-a4b6-377fd09120f7');\n",
              "          const dataTable =\n",
              "            await google.colab.kernel.invokeFunction('convertToInteractive',\n",
              "                                                     [key], {});\n",
              "          if (!dataTable) return;\n",
              "\n",
              "          const docLinkHtml = 'Like what you see? Visit the ' +\n",
              "            '<a target=\"_blank\" href=https://colab.research.google.com/notebooks/data_table.ipynb>data table notebook</a>'\n",
              "            + ' to learn more about interactive tables.';\n",
              "          element.innerHTML = '';\n",
              "          dataTable['output_type'] = 'display_data';\n",
              "          await google.colab.output.renderOutput(dataTable, element);\n",
              "          const docLink = document.createElement('div');\n",
              "          docLink.innerHTML = docLinkHtml;\n",
              "          element.appendChild(docLink);\n",
              "        }\n",
              "      </script>\n",
              "    </div>\n",
              "  </div>\n",
              "  "
            ]
          },
          "metadata": {},
          "execution_count": 22
        }
      ]
    },
    {
      "cell_type": "markdown",
      "source": [
        "**a. Which of your numeric variables appear to influence the outcome\n",
        "variable the most? Which ones have the least impact? Choose any three\n",
        "variables that seem to matter for this model, and write a sentence or two\n",
        "for each with your thoughts about their importance. You can think about\n",
        "your own experience as a traveler as you write this.\n",
        "b. Now look at the categorical variables and their coefficients. What stands\n",
        "out here among these?**"
      ],
      "metadata": {
        "id": "lkHJvLFFQUnr"
      }
    },
    {
      "cell_type": "markdown",
      "source": [
        "*Impact of the input variable on the outcome is completely dependent on the value or magnitude of coefficient. A variable with highest coefficient will have maximum impact on the output and its directly proportional*"
      ],
      "metadata": {
        "id": "YYhdpmdYWvZE"
      }
    },
    {
      "cell_type": "markdown",
      "source": [
        "*Merch_store numeric variable appears to influence the outcome variable the most as it has the highest coefficient value. Whereas, AGI numeric variable has the least impact in a negative direction.\n",
        "Merch_store is most significant as the likelihood of the outcome is supposed to be increased by 0.042.It can be predicted as visitors that make purchases at Lobsterland merchandise store can afford to book a renewal for 2022 at a discounted price. Hence, the visitors that often make purchases at merch_store has a huge influence on the outcome variable.*"
      ],
      "metadata": {
        "id": "q8x4MnsMWzIF"
      }
    },
    {
      "cell_type": "markdown",
      "source": [
        "*householdpax represents the number of people in a household.This input variable has a significant influence on the 'return' values. As the number of values of householdpax increases, the Lobsterland tends to attract more people to the park. With a large value of coefficient of householdpax there is a great possibility or influence for its visitors to return next year hence possibility of renewal for 2022.*"
      ],
      "metadata": {
        "id": "8_V6R1ApW7qL"
      }
    },
    {
      "cell_type": "markdown",
      "source": [
        "*AGI coefficient is negative representing the least influence on the outcome variable as the adjusted gross income of the households has no relation to their spending at the Lobsterland.*"
      ],
      "metadata": {
        "id": "g8aDHoi0XD4T"
      }
    },
    {
      "cell_type": "markdown",
      "source": [
        "**b. Now look at the categorical variables and their coefficients. What stands out here among these?**"
      ],
      "metadata": {
        "id": "fWuVO9tMXoSm"
      }
    },
    {
      "cell_type": "markdown",
      "source": [
        "*lodging_portland sea View represents the lodging options selected by household for their Lobsterland visit.The coefficient value of 0.000152 represents its influence on the outcome variable. It clearly states that if the households were able to afford Portland sea view hotel there is a positive influence on spending for renewal for 2022 at a discounted price.\n",
        "Households renting SUV has more possibility to renew the booking for 2022 than sedan or other options. Households dining at Lobsterama Viking and other restaurants also have a huge impact on the outcome variable as they can afford a renewal for 2022. It is pretty obvious that households who afford good lodging and dining options can also afford to buy the renewal for 2022 at a discounted price.*"
      ],
      "metadata": {
        "id": "jlWJNXLwXp0y"
      }
    },
    {
      "cell_type": "markdown",
      "source": [
        "**I. Assess the performance of your model against the test set. Build a confusion\n",
        "matrix, and answer the following questions about your model. You can use\n",
        "Python functions to answer any of these questions or you can use your confusion\n",
        "matrix to determine the answers in a slightly more manual way. The ‘positive’\n",
        "class in this model is represented by the “1” outcome.\n",
        "a. What is your model’s accuracy rate?\n",
        "b. What is your model’s sensitivity rate?\n",
        "c. What is your model’s specificity rate?\n",
        "d. What is your model’s precision?\n",
        "e. What is your model’s balanced accuracy?**"
      ],
      "metadata": {
        "id": "tpuxSp8fioVm"
      }
    },
    {
      "cell_type": "code",
      "source": [
        "%matplotlib inline\n",
        "mat = confusion_matrix(predict_test, y_test)\n",
        "sns.heatmap(mat,fmt='g', square=True, annot=True, cbar=False)\n",
        "plt.xlabel(\"Actual Result\")\n",
        "plt.ylabel(\"Predicted Result\")\n",
        "#mat.yaxis.set_ticklabels(['False','True'])667-fp,173-tn,144-fn,1387-tp, 1560\n",
        "a, b = plt.ylim() \n",
        "a += 0.5 \n",
        "b -= 0.5 \n",
        "plt.ylim(a, b)\n",
        "plt.show() "
      ],
      "metadata": {
        "colab": {
          "base_uri": "https://localhost:8080/",
          "height": 279
        },
        "id": "_AveVOlgise3",
        "outputId": "e87215d7-2cb8-4372-ef47-f4502ce36eaf"
      },
      "execution_count": 42,
      "outputs": [
        {
          "output_type": "display_data",
          "data": {
            "text/plain": [
              "<Figure size 432x288 with 1 Axes>"
            ],
            "image/png": "[encoded data removed]"
          },
          "metadata": {
            "needs_background": "light"
          }
        }
      ]
    },
    {
      "cell_type": "code",
      "source": [
        "from sklearn.metrics import classification_report\n",
        "print(classification_report(y_test, predict_test))"
      ],
      "metadata": {
        "colab": {
          "base_uri": "https://localhost:8080/",
          "height": 0
        },
        "id": "40j66CxOjf94",
        "outputId": "3e8b44d8-51d2-49dc-9593-696058aa7e8c"
      },
      "execution_count": 24,
      "outputs": [
        {
          "output_type": "stream",
          "name": "stdout",
          "text": [
            "              precision    recall  f1-score   support\n",
            "\n",
            "           0       0.55      0.21      0.30       840\n",
            "           1       0.68      0.91      0.77      1531\n",
            "\n",
            "    accuracy                           0.66      2371\n",
            "   macro avg       0.61      0.56      0.54      2371\n",
            "weighted avg       0.63      0.66      0.61      2371\n",
            "\n"
          ]
        }
      ]
    },
    {
      "cell_type": "markdown",
      "source": [
        "*a.Accuracy Rate: TP+TN/All = 173+1387/2371 = 0.6579= 65%*"
      ],
      "metadata": {
        "id": "AwcxOByxXmmw"
      }
    },
    {
      "cell_type": "markdown",
      "source": [
        "*b.Sensitivity Rate: TP/TP+FN = 1387/1387+144 = 0.9059= 90.59%*"
      ],
      "metadata": {
        "id": "ErGJZruDXrzK"
      }
    },
    {
      "cell_type": "markdown",
      "source": [
        "*c.Specificity Rate: TN/TN+FP = 173/173+667 = 0.2059= 20.59%*"
      ],
      "metadata": {
        "id": "QHsrE5IUXuSl"
      }
    },
    {
      "cell_type": "markdown",
      "source": [
        "*d.Precision: TP/TP+FP = 1387/1387+667 = 0.6752= 67.52%*"
      ],
      "metadata": {
        "id": "VPY2jU_VXwwL"
      }
    },
    {
      "cell_type": "markdown",
      "source": [
        "*e.Model's balanced accuracy: 0.9059+0.2059/2= 0.5559*"
      ],
      "metadata": {
        "id": "s3QM8dNIX0nY"
      }
    },
    {
      "cell_type": "markdown",
      "source": [
        "**J. Compare your model’s accuracy against the training set vs. accuracy against the\n",
        "test set (just use accuracy only for this).\n",
        "a. What is the purpose of comparing those two values?\n",
        "b. In this case, what does the comparison of those values suggest about the\n",
        "model that you have built?**"
      ],
      "metadata": {
        "id": "CZv_g6YdjSXP"
      }
    },
    {
      "cell_type": "code",
      "source": [
        "predict_test=logr_model.predict(X_test)\n",
        "accuracy_score(y_test,predict_test)"
      ],
      "metadata": {
        "colab": {
          "base_uri": "https://localhost:8080/",
          "height": 0
        },
        "id": "LEUtbUIJjXzT",
        "outputId": "9d396567-c125-4fb2-c6cf-2572de773960"
      },
      "execution_count": 25,
      "outputs": [
        {
          "output_type": "execute_result",
          "data": {
            "text/plain": [
              "0.6579502319696331"
            ]
          },
          "metadata": {},
          "execution_count": 25
        }
      ]
    },
    {
      "cell_type": "code",
      "source": [
        "predict_train=logr_model.predict(X_train)\n",
        "accuracy_score(y_train,predict_train)"
      ],
      "metadata": {
        "colab": {
          "base_uri": "https://localhost:8080/",
          "height": 0
        },
        "id": "d3oIkoi0jnm7",
        "outputId": "63f31dff-bed7-4bec-fa63-125c6c783465"
      },
      "execution_count": 26,
      "outputs": [
        {
          "output_type": "execute_result",
          "data": {
            "text/plain": [
              "0.6456692913385826"
            ]
          },
          "metadata": {},
          "execution_count": 26
        }
      ]
    },
    {
      "cell_type": "markdown",
      "source": [
        "**a. What is the purpose of comparing those two values?**"
      ],
      "metadata": {
        "id": "X0WRXTyGdYUR"
      }
    },
    {
      "cell_type": "markdown",
      "source": [
        "*Predictions against training set and test set is shown above. For the object predict_train we are using the training set as input for logical regression model. It is used to compare the predicted outcomes with the actual outcomes.\n",
        "Similar thing was performed with the test set as well. Since the model is built with training data, it uses this data to come up with an generalised equation in order to define a relationship between input variable and the ouput variable: return.*"
      ],
      "metadata": {
        "id": "KLA_f0HUb7A-"
      }
    },
    {
      "cell_type": "markdown",
      "source": [
        "**b. In this case, what does the comparison of those values suggest about the model that you have built?**"
      ],
      "metadata": {
        "id": "80hRbWL_dbCb"
      }
    },
    {
      "cell_type": "markdown",
      "source": [
        "*Values of predict_train and predict_test indicate that the model is extremely divergent and is suitable for wide set of data. It also shows that it is extremely relible and useable for new data.*"
      ],
      "metadata": {
        "id": "vS5r-T_ndd18"
      }
    },
    {
      "cell_type": "markdown",
      "source": [
        "**K. Make up a household. Assign this household a value for each predictor variable\n",
        "in this model, and store the results in a new dataframe. Now, put your\n",
        "household through this model.\n",
        "a. What did your model predict -- will this household take the return offer?\n",
        "b. According to your model, what is the probability that the household will\n",
        "accept the offer?**"
      ],
      "metadata": {
        "id": "aJ2dPyjkeS1D"
      }
    },
    {
      "cell_type": "code",
      "source": [
        "Sample1=pd.DataFrame([{'merch_store':83, 'householdpax': 4, 'AGI': 149266.32,'state_Maine': 0,'state_Massachusetts': 0,'state_New Hampshire': 0,'state_Rhode Island': 1,'state_Vermont': 0,'lodging_Mainer Motel':0,\n",
        "                   'lodging_Other': 1,'lodging_Portland Sea View': 0,'dining_Lobsterama Viking':0,'dining_Other':0,'dining_Snack Shack Viking':1,'rental_Other':0,'rental_SUV':1,'rental_Sedan':0,'maine_historic_Yes':0}])"
      ],
      "metadata": {
        "id": "c0CSmjb_3ym1"
      },
      "execution_count": 27,
      "outputs": []
    },
    {
      "cell_type": "code",
      "source": [
        "new_predict = logr_model.predict(Sample1)\n",
        "new_predict"
      ],
      "metadata": {
        "colab": {
          "base_uri": "https://localhost:8080/",
          "height": 0
        },
        "id": "R4ovSeb05MEA",
        "outputId": "6937a7d6-b6f5-477d-c91f-c6fa39406da8"
      },
      "execution_count": 28,
      "outputs": [
        {
          "output_type": "execute_result",
          "data": {
            "text/plain": [
              "array([1])"
            ]
          },
          "metadata": {},
          "execution_count": 28
        }
      ]
    },
    {
      "cell_type": "code",
      "source": [
        "logr_model.predict_proba(Sample1)"
      ],
      "metadata": {
        "colab": {
          "base_uri": "https://localhost:8080/",
          "height": 0
        },
        "id": "_FCF8VOP5Y25",
        "outputId": "7ba9bb55-d025-41cb-b403-c5428ebccfbd"
      },
      "execution_count": 29,
      "outputs": [
        {
          "output_type": "execute_result",
          "data": {
            "text/plain": [
              "array([[0.40928984, 0.59071016]])"
            ]
          },
          "metadata": {},
          "execution_count": 29
        }
      ]
    },
    {
      "cell_type": "markdown",
      "source": [
        "*A - The model predicts that the household will accept the offer.*\n"
      ],
      "metadata": {
        "id": "AdU1PIjPiHAd"
      }
    },
    {
      "cell_type": "markdown",
      "source": [
        "*B - Probability of accepting this offer is 59%*"
      ],
      "metadata": {
        "id": "a_4XbBZ1YKjb"
      }
    },
    {
      "cell_type": "markdown",
      "source": [
        "**L. When using a logistic regression model to make predictions, why is it important\n",
        "to only use values within the range of the dataset used to build the model?\n",
        "a. Make a new dataframe, but this time, for the numeric predictor variables,\n",
        "select some numbers that are outside the range of the dataset -- do not use a 400+ year-old vampire named “Mary.” Use your model to\n",
        "make a prediction for this new dataframe. What do you notice about the\n",
        "result? (To answer this, don’t simply state the predicted outcome, but\n",
        "also write 1-2 sentences of explanation for what you see).**"
      ],
      "metadata": {
        "id": "vl7ZLMVwjM5P"
      }
    },
    {
      "cell_type": "code",
      "source": [
        "Sample2=pd.DataFrame([{'merch_store':140, 'householdpax': 20, 'AGI': \t176768.85,'state_Maine': 0,'state_Massachusetts': 0,'state_New Hampshire': 0,'state_Rhode Island': 1,'state_Vermont': 0,'lodging_Mainer Motel':0,\n",
        "                   'lodging_Other': 1,'lodging_Portland Sea View': 0,'dining_Lobsterama Viking':0,'dining_Other':0,'dining_Snack Shack Viking':1,'rental_Other':0,'rental_SUV':1,'rental_Sedan':0,'maine_historic_Yes':0}])"
      ],
      "metadata": {
        "id": "bRRVf8BujSbe"
      },
      "execution_count": 30,
      "outputs": []
    },
    {
      "cell_type": "code",
      "source": [
        "new_predict1 = logr_model.predict(Sample2)\n",
        "new_predict1"
      ],
      "metadata": {
        "id": "b90Os6RQkGai",
        "colab": {
          "base_uri": "https://localhost:8080/",
          "height": 0
        },
        "outputId": "4a2df5a6-643a-407f-94a9-eee45912f4e2"
      },
      "execution_count": 31,
      "outputs": [
        {
          "output_type": "execute_result",
          "data": {
            "text/plain": [
              "array([1])"
            ]
          },
          "metadata": {},
          "execution_count": 31
        }
      ]
    },
    {
      "cell_type": "code",
      "source": [
        "logr_model.predict_proba(Sample2)"
      ],
      "metadata": {
        "colab": {
          "base_uri": "https://localhost:8080/",
          "height": 0
        },
        "id": "r1tL1K1vkIOL",
        "outputId": "7b60e82c-5883-4d3a-ac5f-f404a043581d"
      },
      "execution_count": 32,
      "outputs": [
        {
          "output_type": "execute_result",
          "data": {
            "text/plain": [
              "array([[0.09942417, 0.90057583]])"
            ]
          },
          "metadata": {},
          "execution_count": 32
        }
      ]
    },
    {
      "cell_type": "markdown",
      "source": [
        "*Predictions are valid only for range of data used to estimate the model. When the values are outside the range, the relationship between the variables can change and the predictions become invalid. I have considered a data frame where the household spends 140 dollars in merch_store and capacity is 20. Homestate of the household is Rhode Island and decided to stay at Other lodging options. The model predicts 90% possibility for the household to the accept the discounted offer. This is not valid as the inputs are way outside the range and they are not properly interpretable. It does not seem to be realistic for a household of 20 people to redeem the offer for 2022. The results clearly states they are not valid and interpretable.* "
      ],
      "metadata": {
        "id": "dPrTVQzjnHnV"
      }
    },
    {
      "cell_type": "markdown",
      "source": [
        "**Part II: Random Forest Model**"
      ],
      "metadata": {
        "id": "4FezC1vgu5iC"
      }
    },
    {
      "cell_type": "markdown",
      "source": [
        "**M. Read the dataset back into Python. Dummify the categorical inputs again, but\n",
        "this time, don’t drop any levels.**"
      ],
      "metadata": {
        "id": "7xRKym9Zu8Jf"
      }
    },
    {
      "cell_type": "code",
      "source": [
        "import numpy as np\n",
        "import pandas as pd\n",
        "import matplotlib.pyplot as plt\n",
        "import seaborn as sns"
      ],
      "metadata": {
        "id": "0j56hBEHvGjd"
      },
      "execution_count": 43,
      "outputs": []
    },
    {
      "cell_type": "code",
      "source": [
        "from google.colab import files\n",
        "uploaded = files.upload()"
      ],
      "metadata": {
        "colab": {
          "resources": {
            "http://localhost:8080/nbextensions/google.colab/files.js": {
              "data": "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",
              "ok": true,
              "headers": [
                [
                  "content-type",
                  "application/javascript"
                ]
              ],
              "status": 200,
              "status_text": ""
            }
          },
          "base_uri": "https://localhost:8080/",
          "height": 73
        },
        "id": "fmgPJFymvNaU",
        "outputId": "a269c1d3-e621-42bf-e94f-2609c3ef4911"
      },
      "execution_count": 44,
      "outputs": [
        {
          "output_type": "display_data",
          "data": {
            "text/plain": [
              "<IPython.core.display.HTML object>"
            ],
            "text/html": [
              "\n",
              "     <input type=\"file\" id=\"files-1bf374c3-77cc-4466-8651-77149b552720\" name=\"files[]\" multiple disabled\n",
              "        style=\"border:none\" />\n",
              "     <output id=\"result-1bf374c3-77cc-4466-8651-77149b552720\">\n",
              "      Upload widget is only available when the cell has been executed in the\n",
              "      current browser session. Please rerun this cell to enable.\n",
              "      </output>\n",
              "      <script src=\"/nbextensions/google.colab/files.js\"></script> "
            ]
          },
          "metadata": {}
        },
        {
          "output_type": "stream",
          "name": "stdout",
          "text": [
            "Saving week_vacation.csv to week_vacation (1).csv\n"
          ]
        }
      ]
    },
    {
      "cell_type": "code",
      "source": [
        "week_vacation = pd.read_csv('week_vacation.csv')\n",
        "print(week_vacation)"
      ],
      "metadata": {
        "colab": {
          "base_uri": "https://localhost:8080/",
          "height": 0
        },
        "id": "BTnyDZrNvPwQ",
        "outputId": "1360a337-54fd-4daf-956c-28a058a6d0ac"
      },
      "execution_count": 45,
      "outputs": [
        {
          "output_type": "stream",
          "name": "stdout",
          "text": [
            "      householdID          state            lodging              dining  \\\n",
            "0             795   Rhode Island       Mainer Motel  Snack Shack Viking   \n",
            "1             465   Rhode Island       Mainer Motel   Lobsterama Viking   \n",
            "2             615    Connecticut       Mainer Motel               Other   \n",
            "3             666    Connecticut       Mainer Motel               Other   \n",
            "4            1318    Connecticut       Mainer Motel    Grand Mainer VIP   \n",
            "...           ...            ...                ...                 ...   \n",
            "5995         5964  New Hampshire              Other   Lobsterama Viking   \n",
            "5996         5972          Maine            Big Ken   Lobsterama Viking   \n",
            "5997         5973  Massachusetts              Other               Other   \n",
            "5998         5997        Vermont            Big Ken   Lobsterama Viking   \n",
            "5999         5999  Massachusetts  Portland Sea View               Other   \n",
            "\n",
            "                 rental  merch_store maine_historic  householdpax  \\\n",
            "0     Luxury Sports Car   101.538340             No             4   \n",
            "1     Luxury Sports Car    83.256816            Yes             7   \n",
            "2                   SUV    80.955348             No             5   \n",
            "3                   SUV    87.085150            Yes             4   \n",
            "4                   SUV    80.361456            Yes             4   \n",
            "...                 ...          ...            ...           ...   \n",
            "5995  Luxury Sports Car    77.649961             No             3   \n",
            "5996              Other    62.474236            Yes             3   \n",
            "5997                SUV    65.484996            Yes             2   \n",
            "5998              Other    71.459042             No             3   \n",
            "5999                SUV    59.329541             No             3   \n",
            "\n",
            "                AGI  return  \n",
            "0     141722.245711       1  \n",
            "1     141491.303906       1  \n",
            "2     136825.347272       0  \n",
            "3     139517.255488       1  \n",
            "4     135448.538304       1  \n",
            "...             ...     ...  \n",
            "5995  129068.275201       1  \n",
            "5996  130259.720842       1  \n",
            "5997  125243.563471       1  \n",
            "5998  128374.508583       0  \n",
            "5999  112504.604317       1  \n",
            "\n",
            "[6000 rows x 10 columns]\n"
          ]
        }
      ]
    },
    {
      "cell_type": "code",
      "source": [
        "week_vacation.head()"
      ],
      "metadata": {
        "colab": {
          "base_uri": "https://localhost:8080/",
          "height": 207
        },
        "id": "x56G1xu5vnCW",
        "outputId": "64019d5a-bced-4d08-b75b-550e228b0706"
      },
      "execution_count": 46,
      "outputs": [
        {
          "output_type": "execute_result",
          "data": {
            "text/plain": [
              "   householdID         state       lodging              dining  \\\n",
              "0          795  Rhode Island  Mainer Motel  Snack Shack Viking   \n",
              "1          465  Rhode Island  Mainer Motel   Lobsterama Viking   \n",
              "2          615   Connecticut  Mainer Motel               Other   \n",
              "3          666   Connecticut  Mainer Motel               Other   \n",
              "4         1318   Connecticut  Mainer Motel    Grand Mainer VIP   \n",
              "\n",
              "              rental  merch_store maine_historic  householdpax            AGI  \\\n",
              "0  Luxury Sports Car   101.538340             No             4  141722.245711   \n",
              "1  Luxury Sports Car    83.256816            Yes             7  141491.303906   \n",
              "2                SUV    80.955348             No             5  136825.347272   \n",
              "3                SUV    87.085150            Yes             4  139517.255488   \n",
              "4                SUV    80.361456            Yes             4  135448.538304   \n",
              "\n",
              "   return  \n",
              "0       1  \n",
              "1       1  \n",
              "2       0  \n",
              "3       1  \n",
              "4       1  "
            ],
            "text/html": [
              "\n",
              "  <div id=\"df-dc65fe39-800f-489e-8bc0-221750d8d928\">\n",
              "    <div class=\"colab-df-container\">\n",
              "      <div>\n",
              "<style scoped>\n",
              "    .dataframe tbody tr th:only-of-type {\n",
              "        vertical-align: middle;\n",
              "    }\n",
              "\n",
              "    .dataframe tbody tr th {\n",
              "        vertical-align: top;\n",
              "    }\n",
              "\n",
              "    .dataframe thead th {\n",
              "        text-align: right;\n",
              "    }\n",
              "</style>\n",
              "<table border=\"1\" class=\"dataframe\">\n",
              "  <thead>\n",
              "    <tr style=\"text-align: right;\">\n",
              "      <th></th>\n",
              "      <th>householdID</th>\n",
              "      <th>state</th>\n",
              "      <th>lodging</th>\n",
              "      <th>dining</th>\n",
              "      <th>rental</th>\n",
              "      <th>merch_store</th>\n",
              "      <th>maine_historic</th>\n",
              "      <th>householdpax</th>\n",
              "      <th>AGI</th>\n",
              "      <th>return</th>\n",
              "    </tr>\n",
              "  </thead>\n",
              "  <tbody>\n",
              "    <tr>\n",
              "      <th>0</th>\n",
              "      <td>795</td>\n",
              "      <td>Rhode Island</td>\n",
              "      <td>Mainer Motel</td>\n",
              "      <td>Snack Shack Viking</td>\n",
              "      <td>Luxury Sports Car</td>\n",
              "      <td>101.538340</td>\n",
              "      <td>No</td>\n",
              "      <td>4</td>\n",
              "      <td>141722.245711</td>\n",
              "      <td>1</td>\n",
              "    </tr>\n",
              "    <tr>\n",
              "      <th>1</th>\n",
              "      <td>465</td>\n",
              "      <td>Rhode Island</td>\n",
              "      <td>Mainer Motel</td>\n",
              "      <td>Lobsterama Viking</td>\n",
              "      <td>Luxury Sports Car</td>\n",
              "      <td>83.256816</td>\n",
              "      <td>Yes</td>\n",
              "      <td>7</td>\n",
              "      <td>141491.303906</td>\n",
              "      <td>1</td>\n",
              "    </tr>\n",
              "    <tr>\n",
              "      <th>2</th>\n",
              "      <td>615</td>\n",
              "      <td>Connecticut</td>\n",
              "      <td>Mainer Motel</td>\n",
              "      <td>Other</td>\n",
              "      <td>SUV</td>\n",
              "      <td>80.955348</td>\n",
              "      <td>No</td>\n",
              "      <td>5</td>\n",
              "      <td>136825.347272</td>\n",
              "      <td>0</td>\n",
              "    </tr>\n",
              "    <tr>\n",
              "      <th>3</th>\n",
              "      <td>666</td>\n",
              "      <td>Connecticut</td>\n",
              "      <td>Mainer Motel</td>\n",
              "      <td>Other</td>\n",
              "      <td>SUV</td>\n",
              "      <td>87.085150</td>\n",
              "      <td>Yes</td>\n",
              "      <td>4</td>\n",
              "      <td>139517.255488</td>\n",
              "      <td>1</td>\n",
              "    </tr>\n",
              "    <tr>\n",
              "      <th>4</th>\n",
              "      <td>1318</td>\n",
              "      <td>Connecticut</td>\n",
              "      <td>Mainer Motel</td>\n",
              "      <td>Grand Mainer VIP</td>\n",
              "      <td>SUV</td>\n",
              "      <td>80.361456</td>\n",
              "      <td>Yes</td>\n",
              "      <td>4</td>\n",
              "      <td>135448.538304</td>\n",
              "      <td>1</td>\n",
              "    </tr>\n",
              "  </tbody>\n",
              "</table>\n",
              "</div>\n",
              "      <button class=\"colab-df-convert\" onclick=\"convertToInteractive('df-dc65fe39-800f-489e-8bc0-221750d8d928')\"\n",
              "              title=\"Convert this dataframe to an interactive table.\"\n",
              "              style=\"display:none;\">\n",
              "        \n",
              "  <svg xmlns=\"http://www.w3.org/2000/svg\" height=\"24px\"viewBox=\"0 0 24 24\"\n",
              "       width=\"24px\">\n",
              "    <path d=\"M0 0h24v24H0V0z\" fill=\"none\"/>\n",
              "    <path d=\"M18.56 5.44l.94 2.06.94-2.06 2.06-.94-2.06-.94-.94-2.06-.94 2.06-2.06.94zm-11 1L8.5 8.5l.94-2.06 2.06-.94-2.06-.94L8.5 2.5l-.94 2.06-2.06.94zm10 10l.94 2.06.94-2.06 2.06-.94-2.06-.94-.94-2.06-.94 2.06-2.06.94z\"/><path d=\"M17.41 7.96l-1.37-1.37c-.4-.4-.92-.59-1.43-.59-.52 0-1.04.2-1.43.59L10.3 9.45l-7.72 7.72c-.78.78-.78 2.05 0 2.83L4 21.41c.39.39.9.59 1.41.59.51 0 1.02-.2 1.41-.59l7.78-7.78 2.81-2.81c.8-.78.8-2.07 0-2.86zM5.41 20L4 18.59l7.72-7.72 1.47 1.35L5.41 20z\"/>\n",
              "  </svg>\n",
              "      </button>\n",
              "      \n",
              "  <style>\n",
              "    .colab-df-container {\n",
              "      display:flex;\n",
              "      flex-wrap:wrap;\n",
              "      gap: 12px;\n",
              "    }\n",
              "\n",
              "    .colab-df-convert {\n",
              "      background-color: #E8F0FE;\n",
              "      border: none;\n",
              "      border-radius: 50%;\n",
              "      cursor: pointer;\n",
              "      display: none;\n",
              "      fill: #1967D2;\n",
              "      height: 32px;\n",
              "      padding: 0 0 0 0;\n",
              "      width: 32px;\n",
              "    }\n",
              "\n",
              "    .colab-df-convert:hover {\n",
              "      background-color: #E2EBFA;\n",
              "      box-shadow: 0px 1px 2px rgba(60, 64, 67, 0.3), 0px 1px 3px 1px rgba(60, 64, 67, 0.15);\n",
              "      fill: #174EA6;\n",
              "    }\n",
              "\n",
              "    [theme=dark] .colab-df-convert {\n",
              "      background-color: #3B4455;\n",
              "      fill: #D2E3FC;\n",
              "    }\n",
              "\n",
              "    [theme=dark] .colab-df-convert:hover {\n",
              "      background-color: #434B5C;\n",
              "      box-shadow: 0px 1px 3px 1px rgba(0, 0, 0, 0.15);\n",
              "      filter: drop-shadow(0px 1px 2px rgba(0, 0, 0, 0.3));\n",
              "      fill: #FFFFFF;\n",
              "    }\n",
              "  </style>\n",
              "\n",
              "      <script>\n",
              "        const buttonEl =\n",
              "          document.querySelector('#df-dc65fe39-800f-489e-8bc0-221750d8d928 button.colab-df-convert');\n",
              "        buttonEl.style.display =\n",
              "          google.colab.kernel.accessAllowed ? 'block' : 'none';\n",
              "\n",
              "        async function convertToInteractive(key) {\n",
              "          const element = document.querySelector('#df-dc65fe39-800f-489e-8bc0-221750d8d928');\n",
              "          const dataTable =\n",
              "            await google.colab.kernel.invokeFunction('convertToInteractive',\n",
              "                                                     [key], {});\n",
              "          if (!dataTable) return;\n",
              "\n",
              "          const docLinkHtml = 'Like what you see? Visit the ' +\n",
              "            '<a target=\"_blank\" href=https://colab.research.google.com/notebooks/data_table.ipynb>data table notebook</a>'\n",
              "            + ' to learn more about interactive tables.';\n",
              "          element.innerHTML = '';\n",
              "          dataTable['output_type'] = 'display_data';\n",
              "          await google.colab.output.renderOutput(dataTable, element);\n",
              "          const docLink = document.createElement('div');\n",
              "          docLink.innerHTML = docLinkHtml;\n",
              "          element.appendChild(docLink);\n",
              "        }\n",
              "      </script>\n",
              "    </div>\n",
              "  </div>\n",
              "  "
            ]
          },
          "metadata": {},
          "execution_count": 46
        }
      ]
    },
    {
      "cell_type": "code",
      "source": [
        "week_vacation.columns"
      ],
      "metadata": {
        "colab": {
          "base_uri": "https://localhost:8080/",
          "height": 0
        },
        "id": "RZwCn1znvsKX",
        "outputId": "c1fc98e2-f38a-44b8-f3f3-8367802fab1c"
      },
      "execution_count": 47,
      "outputs": [
        {
          "output_type": "execute_result",
          "data": {
            "text/plain": [
              "Index(['householdID', 'state', 'lodging', 'dining', 'rental', 'merch_store',\n",
              "       'maine_historic', 'householdpax', 'AGI', 'return'],\n",
              "      dtype='object')"
            ]
          },
          "metadata": {},
          "execution_count": 47
        }
      ]
    },
    {
      "cell_type": "code",
      "source": [
        "week_vacation1= week_vacation.drop(\"householdID\",axis=1,inplace= True)\n",
        "week_vacation1=week_vacation[week_vacation['householdpax']>0]"
      ],
      "metadata": {
        "id": "ocU4aAfSmyLK"
      },
      "execution_count": 48,
      "outputs": []
    },
    {
      "cell_type": "code",
      "source": [
        "week_vacation2=pd.get_dummies(week_vacation1,drop_first=True, columns=['state','lodging','dining','rental','maine_historic'])"
      ],
      "metadata": {
        "id": "ijkUT8W0rl6B"
      },
      "execution_count": 49,
      "outputs": []
    },
    {
      "cell_type": "markdown",
      "source": [
        "**N. Re-partition the data, using the same seed value that you used in the previous\n",
        "part of this assignment**"
      ],
      "metadata": {
        "id": "djZ7KyXezYSD"
      }
    },
    {
      "cell_type": "code",
      "source": [
        "from sklearn.model_selection import train_test_split\n",
        "X= week_vacation2[['merch_store','householdpax','AGI','state_Maine','state_Massachusetts','state_New Hampshire','state_Rhode Island','state_Vermont','lodging_Mainer Motel',\n",
        "                   'lodging_Other','lodging_Portland Sea View','dining_Lobsterama Viking','dining_Other','dining_Snack Shack Viking','rental_Other','rental_SUV','rental_Sedan','maine_historic_Yes']]\n",
        "y= week_vacation2['return']\n",
        "X_train,X_test,y_train,y_test = train_test_split(X,y,test_size=0.4,random_state=302)"
      ],
      "metadata": {
        "id": "d5YY5q_EvuoJ"
      },
      "execution_count": 50,
      "outputs": []
    },
    {
      "cell_type": "markdown",
      "source": [
        "**O. Build a random forest model in Python with your training set. Use the same input variables, and same output variable, as you used in the logistic regression model (the only difference here is that the categories should not have any levels dropped). Use GridSearchCV to help you determine the best hyperparameter settings for your model.**"
      ],
      "metadata": {
        "id": "FiBsEPsvqYzd"
      }
    },
    {
      "cell_type": "code",
      "source": [
        "from sklearn.ensemble import RandomForestClassifier\n",
        "clf=RandomForestClassifier()\n",
        "clf.fit(X_train,y_train)"
      ],
      "metadata": {
        "colab": {
          "base_uri": "https://localhost:8080/",
          "height": 0
        },
        "id": "m0FZmPnAshE5",
        "outputId": "ea237d72-a4b4-4a70-f7b6-2f4749c4d839"
      },
      "execution_count": 51,
      "outputs": [
        {
          "output_type": "execute_result",
          "data": {
            "text/plain": [
              "RandomForestClassifier()"
            ]
          },
          "metadata": {},
          "execution_count": 51
        }
      ]
    },
    {
      "cell_type": "code",
      "source": [
        "feature_imp_df = pd.DataFrame(list(zip(clf.feature_importances_, X_train)))\n",
        "feature_imp_df.columns = ['feature importance', 'feature']\n",
        "feature_imp_df = feature_imp_df.sort_values(by='feature importance', ascending=False)\n",
        "feature_imp_df"
      ],
      "metadata": {
        "colab": {
          "base_uri": "https://localhost:8080/",
          "height": 616
        },
        "id": "g3VssSDTtBrs",
        "outputId": "96254d57-537d-4958-f8c7-cdc63dfedc51"
      },
      "execution_count": 52,
      "outputs": [
        {
          "output_type": "execute_result",
          "data": {
            "text/plain": [
              "    feature importance                    feature\n",
              "0             0.333633                merch_store\n",
              "2             0.259822                        AGI\n",
              "1             0.089754               householdpax\n",
              "17            0.033424         maine_historic_Yes\n",
              "15            0.026981                 rental_SUV\n",
              "8             0.025593       lodging_Mainer Motel\n",
              "12            0.024973               dining_Other\n",
              "11            0.024249   dining_Lobsterama Viking\n",
              "9             0.022863              lodging_Other\n",
              "10            0.022102  lodging_Portland Sea View\n",
              "4             0.021919        state_Massachusetts\n",
              "14            0.021864               rental_Other\n",
              "5             0.020029        state_New Hampshire\n",
              "3             0.017738                state_Maine\n",
              "13            0.017085  dining_Snack Shack Viking\n",
              "16            0.013612               rental_Sedan\n",
              "6             0.012330         state_Rhode Island\n",
              "7             0.012029              state_Vermont"
            ],
            "text/html": [
              "\n",
              "  <div id=\"df-b8fef304-f086-4918-84de-0ac592b0bdef\">\n",
              "    <div class=\"colab-df-container\">\n",
              "      <div>\n",
              "<style scoped>\n",
              "    .dataframe tbody tr th:only-of-type {\n",
              "        vertical-align: middle;\n",
              "    }\n",
              "\n",
              "    .dataframe tbody tr th {\n",
              "        vertical-align: top;\n",
              "    }\n",
              "\n",
              "    .dataframe thead th {\n",
              "        text-align: right;\n",
              "    }\n",
              "</style>\n",
              "<table border=\"1\" class=\"dataframe\">\n",
              "  <thead>\n",
              "    <tr style=\"text-align: right;\">\n",
              "      <th></th>\n",
              "      <th>feature importance</th>\n",
              "      <th>feature</th>\n",
              "    </tr>\n",
              "  </thead>\n",
              "  <tbody>\n",
              "    <tr>\n",
              "      <th>0</th>\n",
              "      <td>0.333633</td>\n",
              "      <td>merch_store</td>\n",
              "    </tr>\n",
              "    <tr>\n",
              "      <th>2</th>\n",
              "      <td>0.259822</td>\n",
              "      <td>AGI</td>\n",
              "    </tr>\n",
              "    <tr>\n",
              "      <th>1</th>\n",
              "      <td>0.089754</td>\n",
              "      <td>householdpax</td>\n",
              "    </tr>\n",
              "    <tr>\n",
              "      <th>17</th>\n",
              "      <td>0.033424</td>\n",
              "      <td>maine_historic_Yes</td>\n",
              "    </tr>\n",
              "    <tr>\n",
              "      <th>15</th>\n",
              "      <td>0.026981</td>\n",
              "      <td>rental_SUV</td>\n",
              "    </tr>\n",
              "    <tr>\n",
              "      <th>8</th>\n",
              "      <td>0.025593</td>\n",
              "      <td>lodging_Mainer Motel</td>\n",
              "    </tr>\n",
              "    <tr>\n",
              "      <th>12</th>\n",
              "      <td>0.024973</td>\n",
              "      <td>dining_Other</td>\n",
              "    </tr>\n",
              "    <tr>\n",
              "      <th>11</th>\n",
              "      <td>0.024249</td>\n",
              "      <td>dining_Lobsterama Viking</td>\n",
              "    </tr>\n",
              "    <tr>\n",
              "      <th>9</th>\n",
              "      <td>0.022863</td>\n",
              "      <td>lodging_Other</td>\n",
              "    </tr>\n",
              "    <tr>\n",
              "      <th>10</th>\n",
              "      <td>0.022102</td>\n",
              "      <td>lodging_Portland Sea View</td>\n",
              "    </tr>\n",
              "    <tr>\n",
              "      <th>4</th>\n",
              "      <td>0.021919</td>\n",
              "      <td>state_Massachusetts</td>\n",
              "    </tr>\n",
              "    <tr>\n",
              "      <th>14</th>\n",
              "      <td>0.021864</td>\n",
              "      <td>rental_Other</td>\n",
              "    </tr>\n",
              "    <tr>\n",
              "      <th>5</th>\n",
              "      <td>0.020029</td>\n",
              "      <td>state_New Hampshire</td>\n",
              "    </tr>\n",
              "    <tr>\n",
              "      <th>3</th>\n",
              "      <td>0.017738</td>\n",
              "      <td>state_Maine</td>\n",
              "    </tr>\n",
              "    <tr>\n",
              "      <th>13</th>\n",
              "      <td>0.017085</td>\n",
              "      <td>dining_Snack Shack Viking</td>\n",
              "    </tr>\n",
              "    <tr>\n",
              "      <th>16</th>\n",
              "      <td>0.013612</td>\n",
              "      <td>rental_Sedan</td>\n",
              "    </tr>\n",
              "    <tr>\n",
              "      <th>6</th>\n",
              "      <td>0.012330</td>\n",
              "      <td>state_Rhode Island</td>\n",
              "    </tr>\n",
              "    <tr>\n",
              "      <th>7</th>\n",
              "      <td>0.012029</td>\n",
              "      <td>state_Vermont</td>\n",
              "    </tr>\n",
              "  </tbody>\n",
              "</table>\n",
              "</div>\n",
              "      <button class=\"colab-df-convert\" onclick=\"convertToInteractive('df-b8fef304-f086-4918-84de-0ac592b0bdef')\"\n",
              "              title=\"Convert this dataframe to an interactive table.\"\n",
              "              style=\"display:none;\">\n",
              "        \n",
              "  <svg xmlns=\"http://www.w3.org/2000/svg\" height=\"24px\"viewBox=\"0 0 24 24\"\n",
              "       width=\"24px\">\n",
              "    <path d=\"M0 0h24v24H0V0z\" fill=\"none\"/>\n",
              "    <path d=\"M18.56 5.44l.94 2.06.94-2.06 2.06-.94-2.06-.94-.94-2.06-.94 2.06-2.06.94zm-11 1L8.5 8.5l.94-2.06 2.06-.94-2.06-.94L8.5 2.5l-.94 2.06-2.06.94zm10 10l.94 2.06.94-2.06 2.06-.94-2.06-.94-.94-2.06-.94 2.06-2.06.94z\"/><path d=\"M17.41 7.96l-1.37-1.37c-.4-.4-.92-.59-1.43-.59-.52 0-1.04.2-1.43.59L10.3 9.45l-7.72 7.72c-.78.78-.78 2.05 0 2.83L4 21.41c.39.39.9.59 1.41.59.51 0 1.02-.2 1.41-.59l7.78-7.78 2.81-2.81c.8-.78.8-2.07 0-2.86zM5.41 20L4 18.59l7.72-7.72 1.47 1.35L5.41 20z\"/>\n",
              "  </svg>\n",
              "      </button>\n",
              "      \n",
              "  <style>\n",
              "    .colab-df-container {\n",
              "      display:flex;\n",
              "      flex-wrap:wrap;\n",
              "      gap: 12px;\n",
              "    }\n",
              "\n",
              "    .colab-df-convert {\n",
              "      background-color: #E8F0FE;\n",
              "      border: none;\n",
              "      border-radius: 50%;\n",
              "      cursor: pointer;\n",
              "      display: none;\n",
              "      fill: #1967D2;\n",
              "      height: 32px;\n",
              "      padding: 0 0 0 0;\n",
              "      width: 32px;\n",
              "    }\n",
              "\n",
              "    .colab-df-convert:hover {\n",
              "      background-color: #E2EBFA;\n",
              "      box-shadow: 0px 1px 2px rgba(60, 64, 67, 0.3), 0px 1px 3px 1px rgba(60, 64, 67, 0.15);\n",
              "      fill: #174EA6;\n",
              "    }\n",
              "\n",
              "    [theme=dark] .colab-df-convert {\n",
              "      background-color: #3B4455;\n",
              "      fill: #D2E3FC;\n",
              "    }\n",
              "\n",
              "    [theme=dark] .colab-df-convert:hover {\n",
              "      background-color: #434B5C;\n",
              "      box-shadow: 0px 1px 3px 1px rgba(0, 0, 0, 0.15);\n",
              "      filter: drop-shadow(0px 1px 2px rgba(0, 0, 0, 0.3));\n",
              "      fill: #FFFFFF;\n",
              "    }\n",
              "  </style>\n",
              "\n",
              "      <script>\n",
              "        const buttonEl =\n",
              "          document.querySelector('#df-b8fef304-f086-4918-84de-0ac592b0bdef button.colab-df-convert');\n",
              "        buttonEl.style.display =\n",
              "          google.colab.kernel.accessAllowed ? 'block' : 'none';\n",
              "\n",
              "        async function convertToInteractive(key) {\n",
              "          const element = document.querySelector('#df-b8fef304-f086-4918-84de-0ac592b0bdef');\n",
              "          const dataTable =\n",
              "            await google.colab.kernel.invokeFunction('convertToInteractive',\n",
              "                                                     [key], {});\n",
              "          if (!dataTable) return;\n",
              "\n",
              "          const docLinkHtml = 'Like what you see? Visit the ' +\n",
              "            '<a target=\"_blank\" href=https://colab.research.google.com/notebooks/data_table.ipynb>data table notebook</a>'\n",
              "            + ' to learn more about interactive tables.';\n",
              "          element.innerHTML = '';\n",
              "          dataTable['output_type'] = 'display_data';\n",
              "          await google.colab.output.renderOutput(dataTable, element);\n",
              "          const docLink = document.createElement('div');\n",
              "          docLink.innerHTML = docLinkHtml;\n",
              "          element.appendChild(docLink);\n",
              "        }\n",
              "      </script>\n",
              "    </div>\n",
              "  </div>\n",
              "  "
            ]
          },
          "metadata": {},
          "execution_count": 52
        }
      ]
    },
    {
      "cell_type": "code",
      "source": [
        "%matplotlib inline\n",
        "import matplotlib.pyplot as plt\n",
        "import seaborn as sns\n",
        "from sklearn.metrics import confusion_matrix\n",
        "predictions = clf.predict(X_test)\n",
        "mat = confusion_matrix(y_test, predictions)\n",
        "sns.heatmap(mat, fmt='g', square=True, annot=True, cbar=False)\n",
        "plt.xlabel(\"Predicted Result\")\n",
        "plt.ylabel(\"Actual Result\")\n",
        "a, b = plt.ylim() \n",
        "a += 0.5 \n",
        "b -= 0.5 \n",
        "plt.ylim(a, b)\n",
        "plt.show()"
      ],
      "metadata": {
        "colab": {
          "base_uri": "https://localhost:8080/",
          "height": 279
        },
        "id": "050xrXgftC7p",
        "outputId": "1cd95884-6f09-481c-f879-de5d51cd2165"
      },
      "execution_count": 65,
      "outputs": [
        {
          "output_type": "display_data",
          "data": {
            "text/plain": [
              "<Figure size 432x288 with 1 Axes>"
            ],
            "image/png": "[encoded data removed]"
          },
          "metadata": {
            "needs_background": "light"
          }
        }
      ]
    },
    {
      "cell_type": "code",
      "source": [
        "from sklearn import metrics\n",
        "print(\"Accuracy:\",metrics.accuracy_score(y_test, predictions))"
      ],
      "metadata": {
        "colab": {
          "base_uri": "https://localhost:8080/",
          "height": 0
        },
        "id": "VT5OIOv8tGLq",
        "outputId": "9a8c405a-05a6-460f-8dbb-557dd796a9ed"
      },
      "execution_count": 55,
      "outputs": [
        {
          "output_type": "stream",
          "name": "stdout",
          "text": [
            "Accuracy: 0.7030788696752425\n"
          ]
        }
      ]
    },
    {
      "cell_type": "code",
      "source": [
        "print(metrics.classification_report(y_test, predictions))"
      ],
      "metadata": {
        "colab": {
          "base_uri": "https://localhost:8080/",
          "height": 0
        },
        "id": "r7y0ZEowtIwW",
        "outputId": "ca4ba120-12f8-42e4-8886-ea5ac25e896a"
      },
      "execution_count": 56,
      "outputs": [
        {
          "output_type": "stream",
          "name": "stdout",
          "text": [
            "              precision    recall  f1-score   support\n",
            "\n",
            "           0       0.60      0.47      0.53       840\n",
            "           1       0.74      0.83      0.78      1531\n",
            "\n",
            "    accuracy                           0.70      2371\n",
            "   macro avg       0.67      0.65      0.66      2371\n",
            "weighted avg       0.69      0.70      0.69      2371\n",
            "\n"
          ]
        }
      ]
    },
    {
      "cell_type": "code",
      "source": [
        "param_grid = {\n",
        "    'n_estimators': [50, 100, 150],\n",
        "    'max_depth': [4, 8, 10, 12],\n",
        "    'max_features': [12, 16, 20],\n",
        "    'min_samples_leaf': [6, 10, 14],\n",
        "}"
      ],
      "metadata": {
        "id": "ZPWvo-XntLrY"
      },
      "execution_count": 57,
      "outputs": []
    },
    {
      "cell_type": "code",
      "source": [
        "from sklearn.model_selection import GridSearchCV\n",
        "\n",
        "CV_rfc = GridSearchCV(estimator=clf, param_grid=param_grid, cv= 5)\n",
        "CV_rfc.fit(X_train, y_train)\n",
        "print(CV_rfc.best_params_)"
      ],
      "metadata": {
        "colab": {
          "base_uri": "https://localhost:8080/",
          "height": 0
        },
        "id": "EMEwMTtftOZR",
        "outputId": "d67374e3-05c3-4f20-fc07-e5af0f9844c0"
      },
      "execution_count": 58,
      "outputs": [
        {
          "output_type": "stream",
          "name": "stderr",
          "text": [
            "/usr/local/lib/python3.7/dist-packages/sklearn/model_selection/_validation.py:372: FitFailedWarning: \n",
            "180 fits failed out of a total of 540.\n",
            "The score on these train-test partitions for these parameters will be set to nan.\n",
            "If these failures are not expected, you can try to debug them by setting error_score='raise'.\n",
            "\n",
            "Below are more details about the failures:\n",
            "--------------------------------------------------------------------------------\n",
            "180 fits failed with the following error:\n",
            "Traceback (most recent call last):\n",
            "  File \"/usr/local/lib/python3.7/dist-packages/sklearn/model_selection/_validation.py\", line 680, in _fit_and_score\n",
            "    estimator.fit(X_train, y_train, **fit_params)\n",
            "  File \"/usr/local/lib/python3.7/dist-packages/sklearn/ensemble/_forest.py\", line 467, in fit\n",
            "    for i, t in enumerate(trees)\n",
            "  File \"/usr/local/lib/python3.7/dist-packages/joblib/parallel.py\", line 1043, in __call__\n",
            "    if self.dispatch_one_batch(iterator):\n",
            "  File \"/usr/local/lib/python3.7/dist-packages/joblib/parallel.py\", line 861, in dispatch_one_batch\n",
            "    self._dispatch(tasks)\n",
            "  File \"/usr/local/lib/python3.7/dist-packages/joblib/parallel.py\", line 779, in _dispatch\n",
            "    job = self._backend.apply_async(batch, callback=cb)\n",
            "  File \"/usr/local/lib/python3.7/dist-packages/joblib/_parallel_backends.py\", line 208, in apply_async\n",
            "    result = ImmediateResult(func)\n",
            "  File \"/usr/local/lib/python3.7/dist-packages/joblib/_parallel_backends.py\", line 572, in __init__\n",
            "    self.results = batch()\n",
            "  File \"/usr/local/lib/python3.7/dist-packages/joblib/parallel.py\", line 263, in __call__\n",
            "    for func, args, kwargs in self.items]\n",
            "  File \"/usr/local/lib/python3.7/dist-packages/joblib/parallel.py\", line 263, in <listcomp>\n",
            "    for func, args, kwargs in self.items]\n",
            "  File \"/usr/local/lib/python3.7/dist-packages/sklearn/utils/fixes.py\", line 216, in __call__\n",
            "    return self.function(*args, **kwargs)\n",
            "  File \"/usr/local/lib/python3.7/dist-packages/sklearn/ensemble/_forest.py\", line 185, in _parallel_build_trees\n",
            "    tree.fit(X, y, sample_weight=curr_sample_weight, check_input=False)\n",
            "  File \"/usr/local/lib/python3.7/dist-packages/sklearn/tree/_classes.py\", line 942, in fit\n",
            "    X_idx_sorted=X_idx_sorted,\n",
            "  File \"/usr/local/lib/python3.7/dist-packages/sklearn/tree/_classes.py\", line 308, in fit\n",
            "    raise ValueError(\"max_features must be in (0, n_features]\")\n",
            "ValueError: max_features must be in (0, n_features]\n",
            "\n",
            "  warnings.warn(some_fits_failed_message, FitFailedWarning)\n",
            "/usr/local/lib/python3.7/dist-packages/sklearn/model_selection/_search.py:972: UserWarning: One or more of the test scores are non-finite: [0.69994825 0.70107421 0.69910476 0.69938566 0.70191651 0.70135471\n",
            " 0.70079252 0.69966735 0.69994785 0.70051083 0.70332101 0.70304011\n",
            " 0.70163522 0.7024791  0.70472748 0.70276    0.70219662 0.7036023\n",
            "        nan        nan        nan        nan        nan        nan\n",
            "        nan        nan        nan 0.69263302 0.69769434 0.69713491\n",
            " 0.69460208 0.69938408 0.69600894 0.69544715 0.69657153 0.70219662\n",
            " 0.69319482 0.69600776 0.69713333 0.69263421 0.69432    0.69375938\n",
            " 0.69938368 0.70050886 0.69882228        nan        nan        nan\n",
            "        nan        nan        nan        nan        nan        nan\n",
            " 0.68982087 0.6934769  0.69066317 0.69094565 0.69375938 0.69122813\n",
            " 0.69235252 0.69432197 0.69432237 0.68560225 0.69122458 0.68672782\n",
            " 0.68588157 0.68982048 0.68869491 0.68813271 0.69235133 0.69263381\n",
            "        nan        nan        nan        nan        nan        nan\n",
            "        nan        nan        nan 0.68391528 0.68419262 0.68419697\n",
            " 0.68953918 0.69150824 0.68897818 0.69066475 0.69235252 0.69263421\n",
            " 0.68278931 0.68419499 0.68700714 0.68616247 0.68672506 0.68532017\n",
            " 0.69207122 0.69122813 0.6940387         nan        nan        nan\n",
            "        nan        nan        nan        nan        nan        nan]\n",
            "  category=UserWarning,\n"
          ]
        },
        {
          "output_type": "stream",
          "name": "stdout",
          "text": [
            "{'max_depth': 4, 'max_features': 16, 'min_samples_leaf': 10, 'n_estimators': 150}\n"
          ]
        }
      ]
    },
    {
      "cell_type": "code",
      "source": [
        "clf=RandomForestClassifier(n_estimators=150, max_depth=4, max_features=16, min_samples_leaf=10, random_state=600)\n",
        "clf.fit(X_train,y_train)"
      ],
      "metadata": {
        "colab": {
          "base_uri": "https://localhost:8080/"
        },
        "id": "drNBTrz_tU0b",
        "outputId": "44a677c0-6ca3-4fb8-df3c-2e5c5e89e738"
      },
      "execution_count": 80,
      "outputs": [
        {
          "output_type": "execute_result",
          "data": {
            "text/plain": [
              "RandomForestClassifier(max_depth=4, max_features=16, min_samples_leaf=10,\n",
              "                       n_estimators=150, random_state=600)"
            ]
          },
          "metadata": {},
          "execution_count": 80
        }
      ]
    },
    {
      "cell_type": "code",
      "source": [
        "predictions = clf.predict(X_test)\n",
        "print(\"Accuracy:\",metrics.accuracy_score(y_test, predictions))"
      ],
      "metadata": {
        "colab": {
          "base_uri": "https://localhost:8080/"
        },
        "id": "Pd54IfTvtVaW",
        "outputId": "96884e1a-dde8-4105-a4ba-003a266abbbc"
      },
      "execution_count": 81,
      "outputs": [
        {
          "output_type": "stream",
          "name": "stdout",
          "text": [
            "Accuracy: 0.7250105440742303\n"
          ]
        }
      ]
    },
    {
      "cell_type": "code",
      "source": [
        "print(metrics.classification_report(y_test, predictions))"
      ],
      "metadata": {
        "colab": {
          "base_uri": "https://localhost:8080/"
        },
        "id": "sqQtbg_NtXfn",
        "outputId": "eba50736-ab6d-4e02-ca6f-45e180239031"
      },
      "execution_count": 82,
      "outputs": [
        {
          "output_type": "stream",
          "name": "stdout",
          "text": [
            "              precision    recall  f1-score   support\n",
            "\n",
            "           0       0.63      0.53      0.58       840\n",
            "           1       0.76      0.83      0.80      1531\n",
            "\n",
            "    accuracy                           0.73      2371\n",
            "   macro avg       0.70      0.68      0.69      2371\n",
            "weighted avg       0.72      0.73      0.72      2371\n",
            "\n"
          ]
        }
      ]
    },
    {
      "cell_type": "markdown",
      "source": [
        "**P. How did your random forest model rank the variables in order of importance,\n",
        "from highest to lowest? For a random forest model, how can you interpret\n",
        "feature importance?**"
      ],
      "metadata": {
        "id": "d1j1OBRF5QH8"
      }
    },
    {
      "cell_type": "code",
      "source": [
        "feature_imp_df = pd.DataFrame(list(zip(clf.feature_importances_, X_train)))\n",
        "feature_imp_df.columns = ['feature importance', 'feature']\n",
        "feature_imp_df = feature_imp_df.sort_values(by='feature importance', ascending=False)\n",
        "feature_imp_df"
      ],
      "metadata": {
        "colab": {
          "base_uri": "https://localhost:8080/",
          "height": 614
        },
        "id": "S4VV4Sp8tZUT",
        "outputId": "71ffb225-b9d3-4cf6-ad1c-993b7a8c6449"
      },
      "execution_count": 83,
      "outputs": [
        {
          "output_type": "execute_result",
          "data": {
            "text/plain": [
              "    feature importance                    feature\n",
              "0             0.602240                merch_store\n",
              "2             0.195768                        AGI\n",
              "8             0.117028       lodging_Mainer Motel\n",
              "13            0.032540  dining_Snack Shack Viking\n",
              "1             0.028648               householdpax\n",
              "4             0.005532        state_Massachusetts\n",
              "11            0.004063   dining_Lobsterama Viking\n",
              "12            0.001892               dining_Other\n",
              "6             0.001653         state_Rhode Island\n",
              "14            0.001628               rental_Other\n",
              "15            0.001605                 rental_SUV\n",
              "3             0.001508                state_Maine\n",
              "10            0.001416  lodging_Portland Sea View\n",
              "9             0.001378              lodging_Other\n",
              "7             0.000884              state_Vermont\n",
              "16            0.000848               rental_Sedan\n",
              "17            0.000705         maine_historic_Yes\n",
              "5             0.000664        state_New Hampshire"
            ],
            "text/html": [
              "\n",
              "  <div id=\"df-e441e06c-15b2-4bda-9c42-054d1f3aaa46\">\n",
              "    <div class=\"colab-df-container\">\n",
              "      <div>\n",
              "<style scoped>\n",
              "    .dataframe tbody tr th:only-of-type {\n",
              "        vertical-align: middle;\n",
              "    }\n",
              "\n",
              "    .dataframe tbody tr th {\n",
              "        vertical-align: top;\n",
              "    }\n",
              "\n",
              "    .dataframe thead th {\n",
              "        text-align: right;\n",
              "    }\n",
              "</style>\n",
              "<table border=\"1\" class=\"dataframe\">\n",
              "  <thead>\n",
              "    <tr style=\"text-align: right;\">\n",
              "      <th></th>\n",
              "      <th>feature importance</th>\n",
              "      <th>feature</th>\n",
              "    </tr>\n",
              "  </thead>\n",
              "  <tbody>\n",
              "    <tr>\n",
              "      <th>0</th>\n",
              "      <td>0.602240</td>\n",
              "      <td>merch_store</td>\n",
              "    </tr>\n",
              "    <tr>\n",
              "      <th>2</th>\n",
              "      <td>0.195768</td>\n",
              "      <td>AGI</td>\n",
              "    </tr>\n",
              "    <tr>\n",
              "      <th>8</th>\n",
              "      <td>0.117028</td>\n",
              "      <td>lodging_Mainer Motel</td>\n",
              "    </tr>\n",
              "    <tr>\n",
              "      <th>13</th>\n",
              "      <td>0.032540</td>\n",
              "      <td>dining_Snack Shack Viking</td>\n",
              "    </tr>\n",
              "    <tr>\n",
              "      <th>1</th>\n",
              "      <td>0.028648</td>\n",
              "      <td>householdpax</td>\n",
              "    </tr>\n",
              "    <tr>\n",
              "      <th>4</th>\n",
              "      <td>0.005532</td>\n",
              "      <td>state_Massachusetts</td>\n",
              "    </tr>\n",
              "    <tr>\n",
              "      <th>11</th>\n",
              "      <td>0.004063</td>\n",
              "      <td>dining_Lobsterama Viking</td>\n",
              "    </tr>\n",
              "    <tr>\n",
              "      <th>12</th>\n",
              "      <td>0.001892</td>\n",
              "      <td>dining_Other</td>\n",
              "    </tr>\n",
              "    <tr>\n",
              "      <th>6</th>\n",
              "      <td>0.001653</td>\n",
              "      <td>state_Rhode Island</td>\n",
              "    </tr>\n",
              "    <tr>\n",
              "      <th>14</th>\n",
              "      <td>0.001628</td>\n",
              "      <td>rental_Other</td>\n",
              "    </tr>\n",
              "    <tr>\n",
              "      <th>15</th>\n",
              "      <td>0.001605</td>\n",
              "      <td>rental_SUV</td>\n",
              "    </tr>\n",
              "    <tr>\n",
              "      <th>3</th>\n",
              "      <td>0.001508</td>\n",
              "      <td>state_Maine</td>\n",
              "    </tr>\n",
              "    <tr>\n",
              "      <th>10</th>\n",
              "      <td>0.001416</td>\n",
              "      <td>lodging_Portland Sea View</td>\n",
              "    </tr>\n",
              "    <tr>\n",
              "      <th>9</th>\n",
              "      <td>0.001378</td>\n",
              "      <td>lodging_Other</td>\n",
              "    </tr>\n",
              "    <tr>\n",
              "      <th>7</th>\n",
              "      <td>0.000884</td>\n",
              "      <td>state_Vermont</td>\n",
              "    </tr>\n",
              "    <tr>\n",
              "      <th>16</th>\n",
              "      <td>0.000848</td>\n",
              "      <td>rental_Sedan</td>\n",
              "    </tr>\n",
              "    <tr>\n",
              "      <th>17</th>\n",
              "      <td>0.000705</td>\n",
              "      <td>maine_historic_Yes</td>\n",
              "    </tr>\n",
              "    <tr>\n",
              "      <th>5</th>\n",
              "      <td>0.000664</td>\n",
              "      <td>state_New Hampshire</td>\n",
              "    </tr>\n",
              "  </tbody>\n",
              "</table>\n",
              "</div>\n",
              "      <button class=\"colab-df-convert\" onclick=\"convertToInteractive('df-e441e06c-15b2-4bda-9c42-054d1f3aaa46')\"\n",
              "              title=\"Convert this dataframe to an interactive table.\"\n",
              "              style=\"display:none;\">\n",
              "        \n",
              "  <svg xmlns=\"http://www.w3.org/2000/svg\" height=\"24px\"viewBox=\"0 0 24 24\"\n",
              "       width=\"24px\">\n",
              "    <path d=\"M0 0h24v24H0V0z\" fill=\"none\"/>\n",
              "    <path d=\"M18.56 5.44l.94 2.06.94-2.06 2.06-.94-2.06-.94-.94-2.06-.94 2.06-2.06.94zm-11 1L8.5 8.5l.94-2.06 2.06-.94-2.06-.94L8.5 2.5l-.94 2.06-2.06.94zm10 10l.94 2.06.94-2.06 2.06-.94-2.06-.94-.94-2.06-.94 2.06-2.06.94z\"/><path d=\"M17.41 7.96l-1.37-1.37c-.4-.4-.92-.59-1.43-.59-.52 0-1.04.2-1.43.59L10.3 9.45l-7.72 7.72c-.78.78-.78 2.05 0 2.83L4 21.41c.39.39.9.59 1.41.59.51 0 1.02-.2 1.41-.59l7.78-7.78 2.81-2.81c.8-.78.8-2.07 0-2.86zM5.41 20L4 18.59l7.72-7.72 1.47 1.35L5.41 20z\"/>\n",
              "  </svg>\n",
              "      </button>\n",
              "      \n",
              "  <style>\n",
              "    .colab-df-container {\n",
              "      display:flex;\n",
              "      flex-wrap:wrap;\n",
              "      gap: 12px;\n",
              "    }\n",
              "\n",
              "    .colab-df-convert {\n",
              "      background-color: #E8F0FE;\n",
              "      border: none;\n",
              "      border-radius: 50%;\n",
              "      cursor: pointer;\n",
              "      display: none;\n",
              "      fill: #1967D2;\n",
              "      height: 32px;\n",
              "      padding: 0 0 0 0;\n",
              "      width: 32px;\n",
              "    }\n",
              "\n",
              "    .colab-df-convert:hover {\n",
              "      background-color: #E2EBFA;\n",
              "      box-shadow: 0px 1px 2px rgba(60, 64, 67, 0.3), 0px 1px 3px 1px rgba(60, 64, 67, 0.15);\n",
              "      fill: #174EA6;\n",
              "    }\n",
              "\n",
              "    [theme=dark] .colab-df-convert {\n",
              "      background-color: #3B4455;\n",
              "      fill: #D2E3FC;\n",
              "    }\n",
              "\n",
              "    [theme=dark] .colab-df-convert:hover {\n",
              "      background-color: #434B5C;\n",
              "      box-shadow: 0px 1px 3px 1px rgba(0, 0, 0, 0.15);\n",
              "      filter: drop-shadow(0px 1px 2px rgba(0, 0, 0, 0.3));\n",
              "      fill: #FFFFFF;\n",
              "    }\n",
              "  </style>\n",
              "\n",
              "      <script>\n",
              "        const buttonEl =\n",
              "          document.querySelector('#df-e441e06c-15b2-4bda-9c42-054d1f3aaa46 button.colab-df-convert');\n",
              "        buttonEl.style.display =\n",
              "          google.colab.kernel.accessAllowed ? 'block' : 'none';\n",
              "\n",
              "        async function convertToInteractive(key) {\n",
              "          const element = document.querySelector('#df-e441e06c-15b2-4bda-9c42-054d1f3aaa46');\n",
              "          const dataTable =\n",
              "            await google.colab.kernel.invokeFunction('convertToInteractive',\n",
              "                                                     [key], {});\n",
              "          if (!dataTable) return;\n",
              "\n",
              "          const docLinkHtml = 'Like what you see? Visit the ' +\n",
              "            '<a target=\"_blank\" href=https://colab.research.google.com/notebooks/data_table.ipynb>data table notebook</a>'\n",
              "            + ' to learn more about interactive tables.';\n",
              "          element.innerHTML = '';\n",
              "          dataTable['output_type'] = 'display_data';\n",
              "          await google.colab.output.renderOutput(dataTable, element);\n",
              "          const docLink = document.createElement('div');\n",
              "          docLink.innerHTML = docLinkHtml;\n",
              "          element.appendChild(docLink);\n",
              "        }\n",
              "      </script>\n",
              "    </div>\n",
              "  </div>\n",
              "  "
            ]
          },
          "metadata": {},
          "execution_count": 83
        }
      ]
    },
    {
      "cell_type": "markdown",
      "source": [
        "*Random forest model has ranked the feature importance from highest to lowest. The values present in the feature importance columns are proportions that sum upto 1. Here the merch_store has the highest value so it indicates that it was more effective at separating the records into distinct groups. So merch_store has higher value so it indicates that the feature was more important it basically inidcates how useful it was to split the records into the group. Least important feature here was state_Vermont.*"
      ],
      "metadata": {
        "id": "M_eKiHbYMmDZ"
      }
    },
    {
      "cell_type": "markdown",
      "source": [
        "**Q. Assess the performance of your model against the test set. Build a confusion\n",
        "matrix to do this. You can use Python functions to answer any of these\n",
        "questions or you can use your confusion matrix to determine the answers in a\n",
        "slightly more manual way. The ‘positive’ class in this model is represented by the\n",
        "“1” outcome.\n",
        "a. What is your model’s accuracy rate?\n",
        "b. What is your model’s sensitivity rate?\n",
        "c. What is your model’s specificity rate?\n",
        "d. What is your model’s precision?\n",
        "e. What is your model’s balanced accuracy?**"
      ],
      "metadata": {
        "id": "cYeXb2N_5OJ4"
      }
    },
    {
      "cell_type": "code",
      "source": [
        "%matplotlib inline\n",
        "import matplotlib.pyplot as plt\n",
        "import seaborn as sns\n",
        "from sklearn.metrics import confusion_matrix\n",
        "predictions = clf.predict(X_test)\n",
        "mat = confusion_matrix(y_test, predictions)\n",
        "sns.heatmap(mat, fmt='g', square=True, annot=True, cbar=False)\n",
        "plt.xlabel(\"Predicted Result\")\n",
        "plt.ylabel(\"Actual Result\")\n",
        "a, b = plt.ylim() \n",
        "a += 0.5 \n",
        "b -= 0.5 \n",
        "plt.ylim(a, b)\n",
        "plt.show()\n",
        "#tp:1271 ,tn:448  ,fp:260 , fn:392 , All:2371"
      ],
      "metadata": {
        "colab": {
          "base_uri": "https://localhost:8080/",
          "height": 279
        },
        "id": "OEJhoL6gtbEn",
        "outputId": "a76ed7df-4c48-45ee-f982-55336fc2b314"
      },
      "execution_count": 84,
      "outputs": [
        {
          "output_type": "display_data",
          "data": {
            "text/plain": [
              "<Figure size 432x288 with 1 Axes>"
            ],
            "image/png": "[encoded data removed]"
          },
          "metadata": {
            "needs_background": "light"
          }
        }
      ]
    },
    {
      "cell_type": "code",
      "source": [
        "print(metrics.classification_report(y_test, predictions))"
      ],
      "metadata": {
        "colab": {
          "base_uri": "https://localhost:8080/"
        },
        "id": "rjjPHupms38r",
        "outputId": "7a834221-2c28-4472-d0c8-c46ee58274c7"
      },
      "execution_count": 85,
      "outputs": [
        {
          "output_type": "stream",
          "name": "stdout",
          "text": [
            "              precision    recall  f1-score   support\n",
            "\n",
            "           0       0.63      0.53      0.58       840\n",
            "           1       0.76      0.83      0.80      1531\n",
            "\n",
            "    accuracy                           0.73      2371\n",
            "   macro avg       0.70      0.68      0.69      2371\n",
            "weighted avg       0.72      0.73      0.72      2371\n",
            "\n"
          ]
        }
      ]
    },
    {
      "cell_type": "markdown",
      "source": [
        "*a.Accuracy Rate: TP+TN/All = 1271+448/2371 = 0.7250 = 72.50%*"
      ],
      "metadata": {
        "id": "T0Y0ScrTYsUX"
      }
    },
    {
      "cell_type": "markdown",
      "source": [
        "*b.Sensitivity Rate: TP/TP+FN = 1271/1271+392 = 0.7642 = 76.42%*"
      ],
      "metadata": {
        "id": "XaHIPMpuYuxG"
      }
    },
    {
      "cell_type": "markdown",
      "source": [
        "*c.Specificity Rate: TN/TN+FP = 448/448+260 = 0.6327 = 63.27%*"
      ],
      "metadata": {
        "id": "x170e22sYx3P"
      }
    },
    {
      "cell_type": "markdown",
      "source": [
        "*d.Precision: TP/TP+FP = 1271/1271+260 = 0.8301 = 83.01%*"
      ],
      "metadata": {
        "id": "meOB2W-XY1C9"
      }
    },
    {
      "cell_type": "markdown",
      "source": [
        "*e.Model's balanced accuracy: 0.7642+0.6327/2 = 0.69845*"
      ],
      "metadata": {
        "id": "djGyz6yoY3-3"
      }
    },
    {
      "cell_type": "markdown",
      "source": [
        "**R. Compare your model’s accuracy against the training set vs. your model’s\n",
        "accuracy against the test set. How different were these results?**"
      ],
      "metadata": {
        "id": "DNNzR5V4q6Xa"
      }
    },
    {
      "cell_type": "code",
      "source": [
        "predictions = clf.predict(X_test)\n",
        "print(\"Accuracy:\",metrics.accuracy_score(y_test, predictions))"
      ],
      "metadata": {
        "colab": {
          "base_uri": "https://localhost:8080/"
        },
        "id": "HmmdOaDVsUXw",
        "outputId": "61e21970-5eae-4ef3-98f8-4e9e02e2c778"
      },
      "execution_count": 86,
      "outputs": [
        {
          "output_type": "stream",
          "name": "stdout",
          "text": [
            "Accuracy: 0.7250105440742303\n"
          ]
        }
      ]
    },
    {
      "cell_type": "code",
      "source": [
        "predict_train=clf.predict(X_train)\n",
        "print(\"Accuracy:\",metrics.accuracy_score(y_train, predict_train))"
      ],
      "metadata": {
        "colab": {
          "base_uri": "https://localhost:8080/"
        },
        "id": "J0YbMgaxsdUZ",
        "outputId": "c22b7251-d540-44ee-d541-fbac5367f21b"
      },
      "execution_count": 87,
      "outputs": [
        {
          "output_type": "stream",
          "name": "stdout",
          "text": [
            "Accuracy: 0.7154105736782902\n"
          ]
        }
      ]
    },
    {
      "cell_type": "markdown",
      "source": [
        "*Predictions againts training set and test set is shown above. For the object predict_train we are using the training set as input for random forest model.It is used to compare the predicted outcomes with the actual outcomes.  Similar thing was performed with the test set as well.Since the model is built with training data, it uses this data to come up with an generalised equation in order to define a relationship between input variable and the ouput variable: return.*"
      ],
      "metadata": {
        "id": "4q4TQVIRY_Dr"
      }
    },
    {
      "cell_type": "markdown",
      "source": [
        "*Values of predict_train and predict_test indicate that the model is extremely divergent and is suitable for wide set of data. It also shows that it is extremely relible and useable for new data.*"
      ],
      "metadata": {
        "id": "XMBrUcafZDpn"
      }
    },
    {
      "cell_type": "markdown",
      "source": [
        "**S. Use the predict() function with your model to classify the person who you\n",
        "invented in the previous section. Does the model think this household will\n",
        "accept the return offer?**"
      ],
      "metadata": {
        "id": "7oKLW1q7q_1E"
      }
    },
    {
      "cell_type": "code",
      "source": [
        "clf.predict(Sample1)"
      ],
      "metadata": {
        "colab": {
          "base_uri": "https://localhost:8080/"
        },
        "id": "uc-UpvSsR5AG",
        "outputId": "c35d395a-b507-4eaa-cb4e-185436a842f1"
      },
      "execution_count": 88,
      "outputs": [
        {
          "output_type": "execute_result",
          "data": {
            "text/plain": [
              "array([1])"
            ]
          },
          "metadata": {},
          "execution_count": 88
        }
      ]
    },
    {
      "cell_type": "code",
      "source": [
        "clf.predict_proba(Sample1)"
      ],
      "metadata": {
        "colab": {
          "base_uri": "https://localhost:8080/"
        },
        "id": "zUgiCNAmSaCS",
        "outputId": "f044592f-1999-4f61-cb7f-f1c905991418"
      },
      "execution_count": 89,
      "outputs": [
        {
          "output_type": "execute_result",
          "data": {
            "text/plain": [
              "array([[0.20669359, 0.79330641]])"
            ]
          },
          "metadata": {},
          "execution_count": 89
        }
      ]
    },
    {
      "cell_type": "markdown",
      "source": [
        "*The model predicts that the household will accept the offer.\n",
        "  Probability of accepting this offer is 79%*"
      ],
      "metadata": {
        "id": "fNddwyZwSh3r"
      }
    },
    {
      "cell_type": "markdown",
      "source": [
        "**T. For this question, no Python code is required -- just use a Markdown cell to\n",
        "answer. Write a 3-5 sentence paragraph that speculates about why Lobster Land\n",
        "might care about being able to use this model. There is not a single “correct”\n",
        "answer to this question. Be thoughtful and be creative, and consider the\n",
        "impact of being able to predict whether a specific household will\n",
        "accept a particular offer. You can mention a marketing angle, an operations\n",
        "angle, or anything else that comes to mind.**"
      ],
      "metadata": {
        "id": "P5IMMOsrrDhT"
      }
    },
    {
      "cell_type": "markdown",
      "source": [
        "*There are several reasons for LobsterLand to use Random forest Model because accuracy is greater for this model. This model also provides several feature level importance's for input variables this helps in determining the useful variable resulting in efficient outcomes. This model simplifies the task by identifying them. From marketing perspective, this model is very beneficial to come up with unique combinations of inputs. It helps in opting for appropriate choices when several options are available. Similarly, if Lobsterland wants to know the about the renewal they should focus more on the benefits and promotion or advertising of the renewal which might motivate the customers through it. From analytics point of view, marketing strategies can be designed prior for successful implementation of the promotion for renewal.*\n",
        "\n"
      ],
      "metadata": {
        "id": "MsgTVWQnP-xE"
      }
    }
  ]
}